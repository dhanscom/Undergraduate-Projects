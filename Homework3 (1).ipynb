{
  "nbformat": 4,
  "nbformat_minor": 0,
  "metadata": {
    "colab": {
      "name": "Homework3.ipynb",
      "provenance": [],
      "collapsed_sections": [
        "1OtO0jgxCzxu"
      ],
      "machine_shape": "hm"
    },
    "kernelspec": {
      "name": "python3",
      "display_name": "Python 3"
    },
    "language_info": {
      "name": "python"
    }
  },
  "cells": [
    {
      "cell_type": "code",
      "execution_count": 1,
      "metadata": {
        "id": "uQMm0DEVCYNL"
      },
      "outputs": [],
      "source": [
        "import matplotlib.pyplot as plt\n",
        "import numpy as np\n",
        "import pandas as pd\n",
        "import seaborn as sn\n",
        "from scipy import stats\n",
        "import scipy\n",
        "from sklearn.model_selection import KFold\n",
        "import time\n",
        "from scipy.stats import multivariate_normal\n",
        "from scipy.linalg import fractional_matrix_power\n",
        "from sklearn import datasets\n",
        "from sklearn.metrics import classification_report\n",
        "from sklearn.metrics import confusion_matrix\n",
        "from sklearn.model_selection import cross_val_score\n",
        "from sklearn.model_selection import train_test_split\n",
        "from tensorflow.keras.datasets import mnist\n",
        "from tensorflow.keras.datasets import cifar10\n",
        "from sklearn.metrics import accuracy_score\n",
        "\n",
        "from sklearn.naive_bayes import GaussianNB\n",
        "from sklearn.linear_model import LogisticRegression\n",
        "from sklearn.discriminant_analysis import LinearDiscriminantAnalysis\n",
        "from sklearn.discriminant_analysis import QuadraticDiscriminantAnalysis\n",
        "from sklearn.neighbors import KNeighborsClassifier\n",
        "\n",
        "from sklearn.metrics import classification_report\n",
        "from sklearn.metrics import confusion_matrix\n",
        "from sklearn.model_selection import train_test_split"
      ]
    },
    {
      "cell_type": "markdown",
      "source": [
        "##**Problem #1**\n",
        "\n",
        "Fisher's LDA works by reducing the dimensions of the data and maximizing the variance between each class while minimizing the variance within each class. This can be thought of as transforming the data onto a new axis and then compressing each class and pushing them as far away from each other as possible."
      ],
      "metadata": {
        "id": "1OtO0jgxCzxu"
      }
    },
    {
      "cell_type": "code",
      "source": [
        "class FLDA:\n",
        "    def fit(self, data, label):\n",
        "      # Copy the X and Y data for reduction of errors\n",
        "      X = data.copy()\n",
        "      Y = label.copy()\n",
        "\n",
        "      n = X.shape[0]\n",
        "\n",
        "      # For FLDA we only have 2 classes\n",
        "      uniqueY = 2\n",
        "\n",
        "      # Find the size of each data point\n",
        "      features = X.shape[1]\n",
        "\n",
        "      # Finds the means of each class (2x2)\n",
        "      meanVec = []\n",
        "      for i in range(0, 2):\n",
        "        meanVec.append(np.mean(X[Y==i], axis = 0))\n",
        "\n",
        "      # Initilizes the within class scatter matrix\n",
        "      self.SW = np.zeros([features, features])\n",
        "      # Loops through X and meanVec by class (0 or 1) and calculates the scatter\n",
        "      # Zip the Y classes and meanVec together so that we can use the meanVec \n",
        "      # As a 2x1 and at the same time use the classes of X to generate the scatter at each point within the matrix\n",
        "      for i, mv in zip(range(0,len(Y)), meanVec):\n",
        "        classScat = np.zeros([features, features])\n",
        "        for j in X[Y==i]:\n",
        "          j, mv = j.reshape(features,1), mv.reshape(features,1)\n",
        "          classScat += (j-mv).dot((j-mv).T)\n",
        "        self.SW += classScat\n",
        "\n",
        "      # Initilizes the Between class scatter matrix\n",
        "      self.SB = np.zeros([features,features])\n",
        "\n",
        "      # Calculates the overall means of X (1x2)\n",
        "      mean = (np.mean(X, axis = 0))\n",
        "\n",
        "      # Loops through meanVec to generate the Between class Scatter matrix\n",
        "      for i, mv in enumerate(meanVec):\n",
        "        mv, mean = mv.reshape(features,1), mean.reshape(features,1)\n",
        "        self.SB += n * (mv-mean).dot((mv-mean).T)\n",
        "\n",
        "      # Computes the weight matrix\n",
        "      self.W = np.linalg.inv(self.SW) @ self.SB\n",
        "\n",
        "\n",
        "    # Uses the weight matrix and the data to produce predicted outputs\n",
        "    def predict(self, data):\n",
        "      X = data.copy()\n",
        "      x = np.atleast_2d(X).T\n",
        "      \n",
        "      # returns a matrix of 1 and 0\n",
        "      return np.argmax((self.W@x).T, axis = 1)"
      ],
      "metadata": {
        "id": "842mH36sUch1"
      },
      "execution_count": 39,
      "outputs": []
    },
    {
      "cell_type": "code",
      "source": [
        "numberOfPoints = 1000\n",
        "\n",
        "mean1 = np.array([-1, -1])\n",
        "covariance1 = np.array([[5, 0], [0, 5]])\n",
        "X1 = np.random.multivariate_normal(mean1, covariance1, numberOfPoints)\n",
        "\n",
        "# generate points from class 1\n",
        "mean2 = np.array([5, 5])\n",
        "covariance2 = np.array([[5, 4], [4, 5]])\n",
        "X2 = np.random.multivariate_normal(mean2, covariance2, numberOfPoints)\n",
        "\n",
        "# stack the points\n",
        "X = np.vstack((X1, X2))\n",
        "\n",
        "# create a vector of the labels\n",
        "Y = np.hstack((numberOfPoints * [0], numberOfPoints * [1]))\n",
        "\n",
        "# randomly choose 75% of the data to be the training set and 25% for the testing set\n",
        "trainX, testX, trainY, testY = train_test_split(X, Y, test_size = 0.25, random_state = 1)\n",
        "# plot the training set\n",
        "plt.scatter(trainX[:,0], trainX[:,1], c = trainY, marker = '.')\n",
        "\n",
        "# fit the model to the training data\n",
        "model = FLDA()\n",
        "model.fit(trainX,trainY)\n",
        "\n",
        "# predict the labels of the test set\n",
        "predictedY = model.predict(testX)\n",
        "# print quality metrics\n",
        "print('\\nClassification Report:\\n\\n', classification_report(testY, predictedY))\n",
        "print('\\nConfusion Matrix:\\n')\n",
        "sn.heatmap(confusion_matrix(testY, predictedY), annot = True)"
      ],
      "metadata": {
        "colab": {
          "base_uri": "https://localhost:8080/",
          "height": 546
        },
        "id": "4S02LDKsLyXu",
        "outputId": "86463c76-5e81-4c74-a187-7e6bf9b4717f"
      },
      "execution_count": 65,
      "outputs": [
        {
          "output_type": "stream",
          "name": "stdout",
          "text": [
            "\n",
            "Classification Report:\n",
            "\n",
            "               precision    recall  f1-score   support\n",
            "\n",
            "           0       0.99      0.76      0.86       255\n",
            "           1       0.80      0.99      0.89       245\n",
            "\n",
            "    accuracy                           0.87       500\n",
            "   macro avg       0.89      0.88      0.87       500\n",
            "weighted avg       0.90      0.87      0.87       500\n",
            "\n",
            "\n",
            "Confusion Matrix:\n",
            "\n"
          ]
        },
        {
          "output_type": "execute_result",
          "data": {
            "text/plain": [
              "<matplotlib.axes._subplots.AxesSubplot at 0x7fa350ce3190>"
            ]
          },
          "metadata": {},
          "execution_count": 65
        },
        {
          "output_type": "display_data",
          "data": {
            "text/plain": [
              "<Figure size 432x288 with 2 Axes>"
            ],
            "image/png": "[encoded data removed]"
          },
          "metadata": {}
        }
      ]
    },
    {
      "cell_type": "markdown",
      "source": [
        "##**Problem #2**\n",
        "\n",
        "Discriminant Analysis Nearest Neighbors works almost as a mixture of KNN and DA. When generating the scatter matrices it does not look at the entire data but deals with the scatter within the neighborhood and between the classes in the neighborhood. Then using DA it can find the regions where the classes are seperated. This is done by in according with DANN distances which search within an area around the test point and determines what most the neighbors are doing within that region (x0-x) * sigma * (x0-x).T"
      ],
      "metadata": {
        "id": "sXo0W-jXwnZe"
      }
    },
    {
      "cell_type": "code",
      "source": [
        "class DANN():\n",
        "  def fit(self, X, Y, neighbors, epsilon):\n",
        "    # Initilize variables used throughout the functions\n",
        "    self.X = X\n",
        "    self.Y = Y\n",
        "    self.neighbors = neighbors\n",
        "    self.epsilon = epsilon\n",
        "\n",
        "  def predict(self, x, k):\n",
        "    # search for unique classes\n",
        "    uniqueY = np.unique(self.Y)\n",
        "\n",
        "    # Set dimensional variables\n",
        "    datapoints = self.X.shape[0]\n",
        "    features = self.X.shape[1]\n",
        "\n",
        "    distances = []\n",
        "    # Loop through the each data point and find the determine the distances from each point\n",
        "    for row in self.X:\n",
        "      kdist = np.linalg.norm(x-row)\n",
        "      distances.append(kdist)\n",
        "    \n",
        "    # Sort through the distances to find the nearest neighbors at each point\n",
        "    indices = np.argsort(distances)[:self.neighbors]\n",
        "\n",
        "    # Using those indeces determine the nearest X and Y neighbors\n",
        "    nearest_neighbors = self.X[indices]\n",
        "    nmean_x = np.mean(nearest_neighbors, axis = 0)\n",
        "    neighbors_y = self.Y[indices]\n",
        "\n",
        "    # Within the neighborhood find the number of classes\n",
        "    classes = np.unique(neighbors_y)\n",
        "\n",
        "    SW = np.zeros([features, features])\n",
        "    SB = np.zeros([features, features])\n",
        "    meanVec = []\n",
        "\n",
        "    # Loop through each class to determine the within means\n",
        "    for i in classes:\n",
        "      meanVec.append(np.mean(nearest_neighbors[neighbors_y==i], axis = 0))\n",
        "    \n",
        "    # Generate the within class scatter matrix by looping through the class means and calculating covariance within the nearest neighbors\n",
        "    for i, mv in zip(classes,meanVec):\n",
        "      classScat = np.zeros([features, features])\n",
        "      for j in nearest_neighbors[neighbors_y == i]:\n",
        "        j, mv = j.reshape(features,1), mv.reshape(features,1)\n",
        "        classScat += (1/datapoints)*(j-mv).dot((j-mv).T)\n",
        "      SW += classScat\n",
        "    \n",
        "    # Next is to find the between scatter matrix which is used by comparing the means of each class and the overall means\n",
        "    for i, mv in enumerate(meanVec):\n",
        "      mv, nmean_x = mv.reshape(features,1), nmean_x.reshape(features,1)\n",
        "      SB += (1/datapoints) * (mv-nmean_x).dot((mv-nmean_x).T)\n",
        "\n",
        "    # Variable assignment for determining sigma which will be used as the metric to calculate DANN distances\n",
        "    W = np.linalg.pinv(np.nan_to_num(np.power(SW, -0.5)))\n",
        "    B = np.dot(W, SB).dot(W)\n",
        "    I = np.identity(features)\n",
        "    sigma = W.dot(B + self.epsilon * I).dot(W)\n",
        "    prediction = []\n",
        "\n",
        "    # Loop through each row and calculate the DANN distance, then find the nearest \n",
        "    # k points and determine what most of the surrounding neighors are\n",
        "    for row in self.X:\n",
        "      distances = (self.X-row).dot(sigma).dot((self.X-row).T)\n",
        "      nearest = distances.argsort()[:k]\n",
        "      prediction.append(stats.mode(self.Y[nearest)[0][0][0])\n",
        "    return prediction"
      ],
      "metadata": {
        "id": "RZnbnus43lHc"
      },
      "execution_count": 97,
      "outputs": []
    },
    {
      "cell_type": "code",
      "source": [
        "numberOfPoints = 1000\n",
        "\n",
        "mean1 = np.array([-1, -1])\n",
        "covariance1 = np.array([[5, 0], [0, 5]])\n",
        "X1 = np.random.multivariate_normal(mean1, covariance1, numberOfPoints)\n",
        "\n",
        "# generate points from class 1\n",
        "mean2 = np.array([5, 5])\n",
        "covariance2 = np.array([[5, 4], [4, 5]])\n",
        "X2 = np.random.multivariate_normal(mean2, covariance2, numberOfPoints)\n",
        "\n",
        "# stack the points\n",
        "X = np.vstack((X1, X2))\n",
        "\n",
        "# create a vector of the labels\n",
        "Y = np.hstack((numberOfPoints * [0], numberOfPoints * [1]))\n",
        "\n",
        "# randomly choose 75% of the data to be the training set and 25% for the testing set\n",
        "trainX, testX, trainY, testY = train_test_split(X, Y, test_size = 0.25, random_state = 1)\n",
        "# plot the training set\n",
        "plt.scatter(trainX[:,0], trainX[:,1], c = trainY, marker = '.')\n",
        "\n",
        "# fit the model to the training data\n",
        "model = DANN()\n",
        "#model.fit(trainX,trainY, 50, 1)\n",
        "#model.predict(trainX)\n",
        "\n",
        "\n",
        "# predict the labels of the test set\n",
        "model.fit(testX,testY, 50, 1)\n",
        "predictedY = model.predict(testX, 10)\n",
        "\n",
        "# print quality metrics\n",
        "print('\\nClassification Report:\\n\\n', classification_report(testY, predictedY))\n",
        "print('\\nConfusion Matrix:\\n')\n",
        "sn.heatmap(confusion_matrix(testY, predictedY), annot = True)"
      ],
      "metadata": {
        "id": "Sej8MqazvMgg",
        "colab": {
          "base_uri": "https://localhost:8080/",
          "height": 564
        },
        "outputId": "650191e2-babd-450b-f072-d2cb0086346d"
      },
      "execution_count": 98,
      "outputs": [
        {
          "output_type": "stream",
          "name": "stderr",
          "text": [
            "/usr/local/lib/python3.7/dist-packages/ipykernel_launcher.py:56: RuntimeWarning: invalid value encountered in power\n"
          ]
        },
        {
          "output_type": "stream",
          "name": "stdout",
          "text": [
            "\n",
            "Classification Report:\n",
            "\n",
            "               precision    recall  f1-score   support\n",
            "\n",
            "           0       0.81      1.00      0.90       255\n",
            "           1       0.99      0.76      0.86       245\n",
            "\n",
            "    accuracy                           0.88       500\n",
            "   macro avg       0.90      0.88      0.88       500\n",
            "weighted avg       0.90      0.88      0.88       500\n",
            "\n",
            "\n",
            "Confusion Matrix:\n",
            "\n"
          ]
        },
        {
          "output_type": "execute_result",
          "data": {
            "text/plain": [
              "<matplotlib.axes._subplots.AxesSubplot at 0x7fa34f37acd0>"
            ]
          },
          "metadata": {},
          "execution_count": 98
        },
        {
          "output_type": "display_data",
          "data": {
            "text/plain": [
              "<Figure size 432x288 with 2 Axes>"
            ],
            "image/png": "[encoded data removed]"
          },
          "metadata": {}
        }
      ]
    },
    {
      "cell_type": "markdown",
      "source": [
        "##**Problem #3**\n",
        "\n",
        "After running all the different classifiers it seems that logistic regression and LDA perform with the highest accuracy without any tuning. Personally I would choose LDA because Logistic regression takes longer to compute than LDA. On average according to the k-fold validation, Logistic regression and DANN took the longest time to compute. These two classifiers will be used in problem #4\n"
      ],
      "metadata": {
        "id": "thgvdHo-HZ9j"
      }
    },
    {
      "cell_type": "code",
      "source": [
        "# List of all the headers\n",
        "headers = ['Jitter (local)','Jitter (local, absolute)','Jitter (rap)',\n",
        "           'Jitter (ppq5)','Jitter (ddp)','Shimmer (local)','Shimmer (local, dB)'\n",
        "           ,'Shimmer (apq3)','Shimmer (apq5)','Shimmer (apq11)','Shimmer (dda)',\n",
        "           'AC','NTH','HTN','Median pitch','Mean pitch','Standard deviation',\n",
        "           'Minimum pitch','Maximum pitch','Number of pulses','Number of periods'\n",
        "           ,'Mean period','Standard deviation of period',\n",
        "           'Fraction of locally unvoiced frames',\n",
        "           'Number of voice breaks','Degree of voice breaks','UPDRS','class information']\n",
        "# List of trimmed headers, basically is headers without UPDRS \n",
        "headersT = ['Jitter (local)','Jitter (local, absolute)','Jitter (rap)',\n",
        "           'Jitter (ppq5)','Jitter (ddp)','Shimmer (local)','Shimmer (local, dB)'\n",
        "           ,'Shimmer (apq3)','Shimmer (apq5)','Shimmer (apq11)','Shimmer (dda)',\n",
        "           'AC','NTH','HTN','Median pitch','Mean pitch','Standard deviation',\n",
        "           'Minimum pitch','Maximum pitch','Number of pulses','Number of periods'\n",
        "           ,'Mean period','Standard deviation of period',\n",
        "           'Fraction of locally unvoiced frames',\n",
        "           'Number of voice breaks','Degree of voice breaks','class information']\n",
        "# Xhead removes UPRDS and class information\n",
        "Xhead = ['Jitter (local)','Jitter (local, absolute)','Jitter (rap)',\n",
        "           'Jitter (ppq5)','Jitter (ddp)','Shimmer (local)','Shimmer (local, dB)'\n",
        "           ,'Shimmer (apq3)','Shimmer (apq5)','Shimmer (apq11)','Shimmer (dda)',\n",
        "           'AC','NTH','HTN','Median pitch','Mean pitch','Standard deviation',\n",
        "           'Minimum pitch','Maximum pitch','Number of pulses','Number of periods'\n",
        "           ,'Mean period','Standard deviation of period',\n",
        "           'Fraction of locally unvoiced frames',\n",
        "           'Number of voice breaks','Degree of voice breaks']\n",
        "# Yhead is solely the class information\n",
        "Yhead = ['class information']\n",
        "\n",
        "# Read the training file\n",
        "dataTrain = pd.read_csv('train_data.txt', sep=\",\", names=headers, index_col=0)\n",
        "\n",
        "# Drops UPDRS since it is not in the testing data\n",
        "dataTrain.dropna(inplace=True)\n",
        "dataTrain.reset_index(drop=True, inplace=True)\n",
        "dataTrain = dataTrain.drop(columns = ['UPDRS'])\n",
        "dataTest = pd.read_csv('test_data.txt', sep=',', names=headersT, index_col=0)\n",
        "\n",
        "\n",
        "dataTest.dropna(inplace=True)\n",
        "dataTest.reset_index(drop=True, inplace=True)\n",
        "\n",
        "# These variables will be used in different problems throughout the homework\n",
        "X = dataTrain[Xhead]\n",
        "Y = dataTrain[Yhead]\n",
        "\n",
        "Xtrain = dataTrain[Xhead]\n",
        "Ytrain = dataTrain[Yhead]\n",
        "\n",
        "Xtest = dataTest[Xhead]\n",
        "Ytest = dataTest[Yhead]"
      ],
      "metadata": {
        "id": "qeq8SdsRHdLQ"
      },
      "execution_count": 103,
      "outputs": []
    },
    {
      "cell_type": "code",
      "source": [
        "class BayesClassifier:\n",
        "    def fit(self, X, Y):     \n",
        "        # find the unique labels\n",
        "        uniqueY = np.unique(Y)\n",
        "        \n",
        "        # find the dimensions\n",
        "        n = X.shape[0]\n",
        "        self.d = X.shape[1]\n",
        "        self.k = uniqueY.shape[0]\n",
        "        \n",
        "        # initialize the outputs\n",
        "        self.prior = np.zeros([self.k, 1])\n",
        "        self.mu = np.zeros([self.k, self.d])\n",
        "        self.Sigma = np.zeros([self.k, self.d, self.d])\n",
        "        \n",
        "        # compute class prior probabilities, sample means, and sample covariances\n",
        "        for i, y in enumerate(uniqueY):\n",
        "            # split the X into its classes\n",
        "            Xi = X[Y == y]\n",
        "            \n",
        "            # compute the size of each class\n",
        "            ni = Xi.shape[0]\n",
        "            \n",
        "            # compute the priors\n",
        "            self.prior[i] = ni / n\n",
        "            \n",
        "            # compute the sample mean\n",
        "            self.mu[i] = np.mean(Xi, axis = 0)\n",
        "            \n",
        "            # compute the centered data\n",
        "            XiBar = Xi - self.mu[i]\n",
        "            \n",
        "            # compute the sample covariance\n",
        "            self.Sigma[i] = (1/ni) * XiBar.T @ XiBar\n",
        "            \n",
        "    def predict(self, X):\n",
        "        n = X.shape[0]\n",
        "        \n",
        "        posteriorPre = np.zeros([n, self.k])\n",
        "        \n",
        "        # compute the pdf term of the posterior probabilities\n",
        "        count = 0\n",
        "        for i in X.iterrows():\n",
        "            print()\n",
        "            for j in range(self.k):\n",
        "              posteriorPre[count][j] = scipy.stats.multivariate_normal.pdf(i[1], self.mu[j], self.Sigma[j], allow_singular = True)\n",
        "            count +=1\n",
        "                \n",
        "        # compute a vector proportional to the posterior probabilities\n",
        "        posterior = posteriorPre * self.prior.T\n",
        "\n",
        "        # find the label for each datapoint by choosing the most probable class\n",
        "        predictions = np.argmax(posterior, axis = 1)\n",
        "        \n",
        "        return predictions\n",
        "\n",
        "kfold = KFold(5, shuffle = True, random_state = 1)\n",
        "acc = []\n",
        "at = []\n",
        "for train, test in kfold.split(dataTrain):\n",
        "  start = time.time()\n",
        "\n",
        "  model = BayesClassifier()\n",
        "  model.fit(dataTrain[Xhead].iloc[train], dataTrain[Yhead].iloc[train].values.reshape(-1,1).ravel())\n",
        "  \n",
        "  # predict the labels of the test set\n",
        "  predictedY = model.predict(dataTrain[Xhead].iloc[test])\n",
        "  end = time.time()\n",
        "  print('Finished in', end - start, 'seconds')\n",
        "  at.append(end-start)\n",
        "  acc.append(accuracy_score(dataTrain[Yhead].iloc[test].values.reshape(-1,1), predictedY.reshape(-1,1)))\n",
        "  # print quality metrics\n",
        "  print('\\nClassification Report:\\n\\n', classification_report(dataTrain[Yhead].iloc[test].values.reshape(-1,1), predictedY.reshape(-1,1)))\n",
        "  print('\\nConfusion Matrix:\\n')\n",
        "  ax = sn.heatmap(confusion_matrix(dataTrain[Yhead].iloc[test].values.reshape(-1,1), predictedY.reshape(-1,1)), annot = True) \n",
        "  plt.show()\n",
        "  print(\"\\n\")  \n",
        "print('\\nAveraged Accuracy: ', np.mean(acc))\n",
        "print('\\nAverage Time: ', np.mean(at))"
      ],
      "metadata": {
        "id": "uMl0opDEtxwc",
        "colab": {
          "base_uri": "https://localhost:8080/",
          "height": 1000
        },
        "outputId": "2f4c7d72-27b4-4e59-a679-3b9c83f5000f"
      },
      "execution_count": 42,
      "outputs": [
        {
          "output_type": "stream",
          "name": "stdout",
          "text": [
            "\n",
            "\n",
            "\n",
            "\n",
            "\n",
            "\n",
            "\n",
            "\n",
            "\n",
            "\n",
            "\n",
            "\n",
            "\n",
            "\n",
            "\n",
            "\n",
            "\n",
            "\n",
            "\n",
            "\n",
            "\n",
            "\n",
            "\n",
            "\n",
            "\n",
            "\n",
            "\n",
            "\n",
            "\n",
            "\n",
            "\n",
            "\n",
            "\n",
            "\n",
            "\n",
            "\n",
            "\n",
            "\n",
            "\n",
            "\n",
            "\n",
            "\n",
            "\n",
            "\n",
            "\n",
            "\n",
            "\n",
            "\n",
            "\n",
            "\n",
            "\n",
            "\n",
            "\n",
            "\n",
            "\n",
            "\n",
            "\n",
            "\n",
            "\n",
            "\n",
            "\n",
            "\n",
            "\n",
            "\n",
            "\n",
            "\n",
            "\n",
            "\n",
            "\n",
            "\n",
            "\n",
            "\n",
            "\n",
            "\n",
            "\n",
            "\n",
            "\n",
            "\n",
            "\n",
            "\n",
            "\n",
            "\n",
            "\n",
            "\n",
            "\n",
            "\n",
            "\n",
            "\n",
            "\n",
            "\n",
            "\n",
            "\n",
            "\n",
            "\n",
            "\n",
            "\n",
            "\n",
            "\n",
            "\n",
            "\n",
            "\n",
            "\n",
            "\n",
            "\n",
            "\n",
            "\n",
            "\n",
            "\n",
            "\n",
            "\n",
            "\n",
            "\n",
            "\n",
            "\n",
            "\n",
            "\n",
            "\n",
            "\n",
            "\n",
            "\n",
            "\n",
            "\n",
            "\n",
            "\n",
            "\n",
            "\n",
            "\n",
            "\n",
            "\n",
            "\n",
            "\n",
            "\n",
            "\n",
            "\n",
            "\n",
            "\n",
            "\n",
            "\n",
            "\n",
            "\n",
            "\n",
            "\n",
            "\n",
            "\n",
            "\n",
            "\n",
            "\n",
            "\n",
            "\n",
            "\n",
            "\n",
            "\n",
            "\n",
            "\n",
            "\n",
            "\n",
            "\n",
            "\n",
            "\n",
            "\n",
            "\n",
            "\n",
            "\n",
            "\n",
            "\n",
            "\n",
            "\n",
            "\n",
            "\n",
            "\n",
            "\n",
            "\n",
            "\n",
            "\n",
            "\n",
            "\n",
            "\n",
            "\n",
            "\n",
            "\n",
            "\n",
            "\n",
            "\n",
            "\n",
            "\n",
            "\n",
            "\n",
            "\n",
            "\n",
            "\n",
            "\n",
            "\n",
            "\n",
            "\n",
            "\n",
            "\n",
            "\n",
            "\n",
            "\n",
            "\n",
            "\n",
            "\n",
            "\n",
            "\n",
            "\n",
            "\n",
            "\n",
            "\n",
            "Finished in 0.43509888648986816 seconds\n",
            "\n",
            "Classification Report:\n",
            "\n",
            "               precision    recall  f1-score   support\n",
            "\n",
            "           0       0.56      0.32      0.41        93\n",
            "           1       0.59      0.79      0.68       115\n",
            "\n",
            "    accuracy                           0.58       208\n",
            "   macro avg       0.57      0.56      0.54       208\n",
            "weighted avg       0.58      0.58      0.56       208\n",
            "\n",
            "\n",
            "Confusion Matrix:\n",
            "\n"
          ]
        },
        {
          "output_type": "display_data",
          "data": {
            "text/plain": [
              "<Figure size 432x288 with 2 Axes>"
            ],
            "image/png": "[encoded data removed]"
          },
          "metadata": {
            "needs_background": "light"
          }
        },
        {
          "output_type": "stream",
          "name": "stdout",
          "text": [
            "\n",
            "\n",
            "\n",
            "\n",
            "\n",
            "\n",
            "\n",
            "\n",
            "\n",
            "\n",
            "\n",
            "\n",
            "\n",
            "\n",
            "\n",
            "\n",
            "\n",
            "\n",
            "\n",
            "\n",
            "\n",
            "\n",
            "\n",
            "\n",
            "\n",
            "\n",
            "\n",
            "\n",
            "\n",
            "\n",
            "\n",
            "\n",
            "\n",
            "\n",
            "\n",
            "\n",
            "\n",
            "\n",
            "\n",
            "\n",
            "\n",
            "\n",
            "\n",
            "\n",
            "\n",
            "\n",
            "\n",
            "\n",
            "\n",
            "\n",
            "\n",
            "\n",
            "\n",
            "\n",
            "\n",
            "\n",
            "\n",
            "\n",
            "\n",
            "\n",
            "\n",
            "\n",
            "\n",
            "\n",
            "\n",
            "\n",
            "\n",
            "\n",
            "\n",
            "\n",
            "\n",
            "\n",
            "\n",
            "\n",
            "\n",
            "\n",
            "\n",
            "\n",
            "\n",
            "\n",
            "\n",
            "\n",
            "\n",
            "\n",
            "\n",
            "\n",
            "\n",
            "\n",
            "\n",
            "\n",
            "\n",
            "\n",
            "\n",
            "\n",
            "\n",
            "\n",
            "\n",
            "\n",
            "\n",
            "\n",
            "\n",
            "\n",
            "\n",
            "\n",
            "\n",
            "\n",
            "\n",
            "\n",
            "\n",
            "\n",
            "\n",
            "\n",
            "\n",
            "\n",
            "\n",
            "\n",
            "\n",
            "\n",
            "\n",
            "\n",
            "\n",
            "\n",
            "\n",
            "\n",
            "\n",
            "\n",
            "\n",
            "\n",
            "\n",
            "\n",
            "\n",
            "\n",
            "\n",
            "\n",
            "\n",
            "\n",
            "\n",
            "\n",
            "\n",
            "\n",
            "\n",
            "\n",
            "\n",
            "\n",
            "\n",
            "\n",
            "\n",
            "\n",
            "\n",
            "\n",
            "\n",
            "\n",
            "\n",
            "\n",
            "\n",
            "\n",
            "\n",
            "\n",
            "\n",
            "\n",
            "\n",
            "\n",
            "\n",
            "\n",
            "\n",
            "\n",
            "\n",
            "\n",
            "\n",
            "\n",
            "\n",
            "\n",
            "\n",
            "\n",
            "\n",
            "\n",
            "\n",
            "\n",
            "\n",
            "\n",
            "\n",
            "\n",
            "\n",
            "\n",
            "\n",
            "\n",
            "\n",
            "\n",
            "\n",
            "\n",
            "\n",
            "\n",
            "\n",
            "\n",
            "\n",
            "\n",
            "\n",
            "\n",
            "\n",
            "\n",
            "\n",
            "\n",
            "\n",
            "\n",
            "\n",
            "\n",
            "\n",
            "\n",
            "\n",
            "\n",
            "Finished in 0.41561245918273926 seconds\n",
            "\n",
            "Classification Report:\n",
            "\n",
            "               precision    recall  f1-score   support\n",
            "\n",
            "           0       0.67      0.25      0.36       112\n",
            "           1       0.49      0.85      0.63        96\n",
            "\n",
            "    accuracy                           0.53       208\n",
            "   macro avg       0.58      0.55      0.49       208\n",
            "weighted avg       0.59      0.53      0.48       208\n",
            "\n",
            "\n",
            "Confusion Matrix:\n",
            "\n"
          ]
        },
        {
          "output_type": "display_data",
          "data": {
            "text/plain": [
              "<Figure size 432x288 with 2 Axes>"
            ],
            "image/png": "[encoded data removed]"
          },
          "metadata": {
            "needs_background": "light"
          }
        },
        {
          "output_type": "stream",
          "name": "stdout",
          "text": [
            "\n",
            "\n",
            "\n",
            "\n",
            "\n",
            "\n",
            "\n",
            "\n",
            "\n",
            "\n",
            "\n",
            "\n",
            "\n",
            "\n",
            "\n",
            "\n",
            "\n",
            "\n",
            "\n",
            "\n",
            "\n",
            "\n",
            "\n",
            "\n",
            "\n",
            "\n",
            "\n",
            "\n",
            "\n",
            "\n",
            "\n",
            "\n",
            "\n",
            "\n",
            "\n",
            "\n",
            "\n",
            "\n",
            "\n",
            "\n",
            "\n",
            "\n",
            "\n",
            "\n",
            "\n",
            "\n",
            "\n",
            "\n",
            "\n",
            "\n",
            "\n",
            "\n",
            "\n",
            "\n",
            "\n",
            "\n",
            "\n",
            "\n",
            "\n",
            "\n",
            "\n",
            "\n",
            "\n",
            "\n",
            "\n",
            "\n",
            "\n",
            "\n",
            "\n",
            "\n",
            "\n",
            "\n",
            "\n",
            "\n",
            "\n",
            "\n",
            "\n",
            "\n",
            "\n",
            "\n",
            "\n",
            "\n",
            "\n",
            "\n",
            "\n",
            "\n",
            "\n",
            "\n",
            "\n",
            "\n",
            "\n",
            "\n",
            "\n",
            "\n",
            "\n",
            "\n",
            "\n",
            "\n",
            "\n",
            "\n",
            "\n",
            "\n",
            "\n",
            "\n",
            "\n",
            "\n",
            "\n",
            "\n",
            "\n",
            "\n",
            "\n",
            "\n",
            "\n",
            "\n",
            "\n",
            "\n",
            "\n",
            "\n",
            "\n",
            "\n",
            "\n",
            "\n",
            "\n",
            "\n",
            "\n",
            "\n",
            "\n",
            "\n",
            "\n",
            "\n",
            "\n",
            "\n",
            "\n",
            "\n",
            "\n",
            "\n",
            "\n",
            "\n",
            "\n",
            "\n",
            "\n",
            "\n",
            "\n",
            "\n",
            "\n",
            "\n",
            "\n",
            "\n",
            "\n",
            "\n",
            "\n",
            "\n",
            "\n",
            "\n",
            "\n",
            "\n",
            "\n",
            "\n",
            "\n",
            "\n",
            "\n",
            "\n",
            "\n",
            "\n",
            "\n",
            "\n",
            "\n",
            "\n",
            "\n",
            "\n",
            "\n",
            "\n",
            "\n",
            "\n",
            "\n",
            "\n",
            "\n",
            "\n",
            "\n",
            "\n",
            "\n",
            "\n",
            "\n",
            "\n",
            "\n",
            "\n",
            "\n",
            "\n",
            "\n",
            "\n",
            "\n",
            "\n",
            "\n",
            "\n",
            "\n",
            "\n",
            "\n",
            "\n",
            "\n",
            "\n",
            "\n",
            "\n",
            "\n",
            "\n",
            "\n",
            "\n",
            "\n",
            "\n",
            "\n",
            "\n",
            "Finished in 0.3940751552581787 seconds\n",
            "\n",
            "Classification Report:\n",
            "\n",
            "               precision    recall  f1-score   support\n",
            "\n",
            "           0       0.63      0.37      0.47       100\n",
            "           1       0.58      0.80      0.67       108\n",
            "\n",
            "    accuracy                           0.59       208\n",
            "   macro avg       0.60      0.58      0.57       208\n",
            "weighted avg       0.60      0.59      0.57       208\n",
            "\n",
            "\n",
            "Confusion Matrix:\n",
            "\n"
          ]
        },
        {
          "output_type": "display_data",
          "data": {
            "text/plain": [
              "<Figure size 432x288 with 2 Axes>"
            ],
            "image/png": "[encoded data removed]"
          },
          "metadata": {
            "needs_background": "light"
          }
        },
        {
          "output_type": "stream",
          "name": "stdout",
          "text": [
            "\n",
            "\n",
            "\n",
            "\n",
            "\n",
            "\n",
            "\n",
            "\n",
            "\n",
            "\n",
            "\n",
            "\n",
            "\n",
            "\n",
            "\n",
            "\n",
            "\n",
            "\n",
            "\n",
            "\n",
            "\n",
            "\n",
            "\n",
            "\n",
            "\n",
            "\n",
            "\n",
            "\n",
            "\n",
            "\n",
            "\n",
            "\n",
            "\n",
            "\n",
            "\n",
            "\n",
            "\n",
            "\n",
            "\n",
            "\n",
            "\n",
            "\n",
            "\n",
            "\n",
            "\n",
            "\n",
            "\n",
            "\n",
            "\n",
            "\n",
            "\n",
            "\n",
            "\n",
            "\n",
            "\n",
            "\n",
            "\n",
            "\n",
            "\n",
            "\n",
            "\n",
            "\n",
            "\n",
            "\n",
            "\n",
            "\n",
            "\n",
            "\n",
            "\n",
            "\n",
            "\n",
            "\n",
            "\n",
            "\n",
            "\n",
            "\n",
            "\n",
            "\n",
            "\n",
            "\n",
            "\n",
            "\n",
            "\n",
            "\n",
            "\n",
            "\n",
            "\n",
            "\n",
            "\n",
            "\n",
            "\n",
            "\n",
            "\n",
            "\n",
            "\n",
            "\n",
            "\n",
            "\n",
            "\n",
            "\n",
            "\n",
            "\n",
            "\n",
            "\n",
            "\n",
            "\n",
            "\n",
            "\n",
            "\n",
            "\n",
            "\n",
            "\n",
            "\n",
            "\n",
            "\n",
            "\n",
            "\n",
            "\n",
            "\n",
            "\n",
            "\n",
            "\n",
            "\n",
            "\n",
            "\n",
            "\n",
            "\n",
            "\n",
            "\n",
            "\n",
            "\n",
            "\n",
            "\n",
            "\n",
            "\n",
            "\n",
            "\n",
            "\n",
            "\n",
            "\n",
            "\n",
            "\n",
            "\n",
            "\n",
            "\n",
            "\n",
            "\n",
            "\n",
            "\n",
            "\n",
            "\n",
            "\n",
            "\n",
            "\n",
            "\n",
            "\n",
            "\n",
            "\n",
            "\n",
            "\n",
            "\n",
            "\n",
            "\n",
            "\n",
            "\n",
            "\n",
            "\n",
            "\n",
            "\n",
            "\n",
            "\n",
            "\n",
            "\n",
            "\n",
            "\n",
            "\n",
            "\n",
            "\n",
            "\n",
            "\n",
            "\n",
            "\n",
            "\n",
            "\n",
            "\n",
            "\n",
            "\n",
            "\n",
            "\n",
            "\n",
            "\n",
            "\n",
            "\n",
            "\n",
            "\n",
            "\n",
            "\n",
            "\n",
            "\n",
            "\n",
            "\n",
            "\n",
            "\n",
            "\n",
            "\n",
            "\n",
            "\n",
            "\n",
            "\n",
            "\n",
            "Finished in 0.3876917362213135 seconds\n",
            "\n",
            "Classification Report:\n",
            "\n",
            "               precision    recall  f1-score   support\n",
            "\n",
            "           0       0.59      0.28      0.38       105\n",
            "           1       0.52      0.81      0.63       103\n",
            "\n",
            "    accuracy                           0.54       208\n",
            "   macro avg       0.56      0.54      0.51       208\n",
            "weighted avg       0.56      0.54      0.50       208\n",
            "\n",
            "\n",
            "Confusion Matrix:\n",
            "\n"
          ]
        },
        {
          "output_type": "display_data",
          "data": {
            "text/plain": [
              "<Figure size 432x288 with 2 Axes>"
            ],
            "image/png": "[encoded data removed]"
          },
          "metadata": {
            "needs_background": "light"
          }
        },
        {
          "output_type": "stream",
          "name": "stdout",
          "text": [
            "\n",
            "\n",
            "\n",
            "\n",
            "\n",
            "\n",
            "\n",
            "\n",
            "\n",
            "\n",
            "\n",
            "\n",
            "\n",
            "\n",
            "\n",
            "\n",
            "\n",
            "\n",
            "\n",
            "\n",
            "\n",
            "\n",
            "\n",
            "\n",
            "\n",
            "\n",
            "\n",
            "\n",
            "\n",
            "\n",
            "\n",
            "\n",
            "\n",
            "\n",
            "\n",
            "\n",
            "\n",
            "\n",
            "\n",
            "\n",
            "\n",
            "\n",
            "\n",
            "\n",
            "\n",
            "\n",
            "\n",
            "\n",
            "\n",
            "\n",
            "\n",
            "\n",
            "\n",
            "\n",
            "\n",
            "\n",
            "\n",
            "\n",
            "\n",
            "\n",
            "\n",
            "\n",
            "\n",
            "\n",
            "\n",
            "\n",
            "\n",
            "\n",
            "\n",
            "\n",
            "\n",
            "\n",
            "\n",
            "\n",
            "\n",
            "\n",
            "\n",
            "\n",
            "\n",
            "\n",
            "\n",
            "\n",
            "\n",
            "\n",
            "\n",
            "\n",
            "\n",
            "\n",
            "\n",
            "\n",
            "\n",
            "\n",
            "\n",
            "\n",
            "\n",
            "\n",
            "\n",
            "\n",
            "\n",
            "\n",
            "\n",
            "\n",
            "\n",
            "\n",
            "\n",
            "\n",
            "\n",
            "\n",
            "\n",
            "\n",
            "\n",
            "\n",
            "\n",
            "\n",
            "\n",
            "\n",
            "\n",
            "\n",
            "\n",
            "\n",
            "\n",
            "\n",
            "\n",
            "\n",
            "\n",
            "\n",
            "\n",
            "\n",
            "\n",
            "\n",
            "\n",
            "\n",
            "\n",
            "\n",
            "\n",
            "\n",
            "\n",
            "\n",
            "\n",
            "\n",
            "\n",
            "\n",
            "\n",
            "\n",
            "\n",
            "\n",
            "\n",
            "\n",
            "\n",
            "\n",
            "\n",
            "\n",
            "\n",
            "\n",
            "\n",
            "\n",
            "\n",
            "\n",
            "\n",
            "\n",
            "\n",
            "\n",
            "\n",
            "\n",
            "\n",
            "\n",
            "\n",
            "\n",
            "\n",
            "\n",
            "\n",
            "\n",
            "\n",
            "\n",
            "\n",
            "\n",
            "\n",
            "\n",
            "\n",
            "\n",
            "\n",
            "\n",
            "\n",
            "\n",
            "\n",
            "\n",
            "\n",
            "\n",
            "\n",
            "\n",
            "\n",
            "\n",
            "\n",
            "\n",
            "\n",
            "\n",
            "\n",
            "\n",
            "\n",
            "\n",
            "\n",
            "\n",
            "\n",
            "\n",
            "\n",
            "\n",
            "\n",
            "\n",
            "\n",
            "\n",
            "Finished in 0.358736515045166 seconds\n",
            "\n",
            "Classification Report:\n",
            "\n",
            "               precision    recall  f1-score   support\n",
            "\n",
            "           0       0.68      0.23      0.34       110\n",
            "           1       0.50      0.88      0.64        98\n",
            "\n",
            "    accuracy                           0.53       208\n",
            "   macro avg       0.59      0.55      0.49       208\n",
            "weighted avg       0.59      0.53      0.48       208\n",
            "\n",
            "\n",
            "Confusion Matrix:\n",
            "\n"
          ]
        },
        {
          "output_type": "display_data",
          "data": {
            "text/plain": [
              "<Figure size 432x288 with 2 Axes>"
            ],
            "image/png": "[encoded data removed]"
          },
          "metadata": {
            "needs_background": "light"
          }
        },
        {
          "output_type": "stream",
          "name": "stdout",
          "text": [
            "\n",
            "\n",
            "\n",
            "Averaged Accuracy:  0.5548076923076923\n",
            "\n",
            "Average Time:  0.3982429504394531\n"
          ]
        }
      ]
    },
    {
      "cell_type": "code",
      "source": [
        "kfold = KFold(5, shuffle = True, random_state = 1)\n",
        "acc = []\n",
        "at = []\n",
        "for train, test in kfold.split(dataTrain):\n",
        "  start = time.time()\n",
        "\n",
        "  model = GaussianNB()\n",
        "  model.fit(dataTrain[Xhead].iloc[train],dataTrain[Yhead].iloc[train].values.reshape(-1,1).ravel())\n",
        "    # predict the labels of the test set\n",
        "  predictedY = model.predict(dataTrain[Xhead].iloc[test])\n",
        "  end = time.time()\n",
        "  print('Finished in', end - start, 'seconds')\n",
        "  at.append(end-start)\n",
        "  acc.append(accuracy_score(dataTrain[Yhead].iloc[test].values.reshape(-1,1),predictedY.reshape(-1,1)))\n",
        "  # print quality metrics\n",
        "  print('\\nClassification Report:\\n\\n', classification_report(dataTrain[Yhead].iloc[test].values.reshape(-1,1), predictedY.reshape(-1,1)))\n",
        "  print('\\nConfusion Matrix:\\n')\n",
        "  ax = sn.heatmap(confusion_matrix(dataTrain[Yhead].iloc[test].values.reshape(-1,1), predictedY.reshape(-1,1)), annot = True) \n",
        "  plt.show()\n",
        "  print(\"\\n\")  \n",
        "print('\\nAveraged Accuracy: ', np.mean(acc))\n",
        "print('\\nAverage Time: ', np.mean(at))"
      ],
      "metadata": {
        "id": "96ku9bpCBwmX",
        "colab": {
          "base_uri": "https://localhost:8080/",
          "height": 1000
        },
        "outputId": "8db656b6-c9e5-4dbc-948a-a238e593b1b0"
      },
      "execution_count": 43,
      "outputs": [
        {
          "output_type": "stream",
          "name": "stdout",
          "text": [
            "Finished in 0.00980830192565918 seconds\n",
            "\n",
            "Classification Report:\n",
            "\n",
            "               precision    recall  f1-score   support\n",
            "\n",
            "           0       0.50      0.41      0.45        93\n",
            "           1       0.58      0.67      0.62       115\n",
            "\n",
            "    accuracy                           0.55       208\n",
            "   macro avg       0.54      0.54      0.54       208\n",
            "weighted avg       0.55      0.55      0.55       208\n",
            "\n",
            "\n",
            "Confusion Matrix:\n",
            "\n"
          ]
        },
        {
          "output_type": "display_data",
          "data": {
            "text/plain": [
              "<Figure size 432x288 with 2 Axes>"
            ],
            "image/png": "[encoded data removed]"
          },
          "metadata": {
            "needs_background": "light"
          }
        },
        {
          "output_type": "stream",
          "name": "stdout",
          "text": [
            "\n",
            "\n",
            "Finished in 0.008479833602905273 seconds\n",
            "\n",
            "Classification Report:\n",
            "\n",
            "               precision    recall  f1-score   support\n",
            "\n",
            "           0       0.71      0.40      0.51       112\n",
            "           1       0.54      0.81      0.65        96\n",
            "\n",
            "    accuracy                           0.59       208\n",
            "   macro avg       0.63      0.61      0.58       208\n",
            "weighted avg       0.63      0.59      0.58       208\n",
            "\n",
            "\n",
            "Confusion Matrix:\n",
            "\n"
          ]
        },
        {
          "output_type": "display_data",
          "data": {
            "text/plain": [
              "<Figure size 432x288 with 2 Axes>"
            ],
            "image/png": "[encoded data removed]"
          },
          "metadata": {
            "needs_background": "light"
          }
        },
        {
          "output_type": "stream",
          "name": "stdout",
          "text": [
            "\n",
            "\n",
            "Finished in 0.008858203887939453 seconds\n",
            "\n",
            "Classification Report:\n",
            "\n",
            "               precision    recall  f1-score   support\n",
            "\n",
            "           0       0.57      0.58      0.58       100\n",
            "           1       0.61      0.60      0.60       108\n",
            "\n",
            "    accuracy                           0.59       208\n",
            "   macro avg       0.59      0.59      0.59       208\n",
            "weighted avg       0.59      0.59      0.59       208\n",
            "\n",
            "\n",
            "Confusion Matrix:\n",
            "\n"
          ]
        },
        {
          "output_type": "display_data",
          "data": {
            "text/plain": [
              "<Figure size 432x288 with 2 Axes>"
            ],
            "image/png": "[encoded data removed]"
          },
          "metadata": {
            "needs_background": "light"
          }
        },
        {
          "output_type": "stream",
          "name": "stdout",
          "text": [
            "\n",
            "\n",
            "Finished in 0.008112668991088867 seconds\n",
            "\n",
            "Classification Report:\n",
            "\n",
            "               precision    recall  f1-score   support\n",
            "\n",
            "           0       0.69      0.45      0.54       105\n",
            "           1       0.59      0.80      0.67       103\n",
            "\n",
            "    accuracy                           0.62       208\n",
            "   macro avg       0.64      0.62      0.61       208\n",
            "weighted avg       0.64      0.62      0.61       208\n",
            "\n",
            "\n",
            "Confusion Matrix:\n",
            "\n"
          ]
        },
        {
          "output_type": "display_data",
          "data": {
            "text/plain": [
              "<Figure size 432x288 with 2 Axes>"
            ],
            "image/png": "[encoded data removed]"
          },
          "metadata": {
            "needs_background": "light"
          }
        },
        {
          "output_type": "stream",
          "name": "stdout",
          "text": [
            "\n",
            "\n",
            "Finished in 0.008559465408325195 seconds\n",
            "\n",
            "Classification Report:\n",
            "\n",
            "               precision    recall  f1-score   support\n",
            "\n",
            "           0       0.67      0.33      0.44       110\n",
            "           1       0.52      0.82      0.63        98\n",
            "\n",
            "    accuracy                           0.56       208\n",
            "   macro avg       0.59      0.57      0.54       208\n",
            "weighted avg       0.60      0.56      0.53       208\n",
            "\n",
            "\n",
            "Confusion Matrix:\n",
            "\n"
          ]
        },
        {
          "output_type": "display_data",
          "data": {
            "text/plain": [
              "<Figure size 432x288 with 2 Axes>"
            ],
            "image/png": "[encoded data removed]"
          },
          "metadata": {
            "needs_background": "light"
          }
        },
        {
          "output_type": "stream",
          "name": "stdout",
          "text": [
            "\n",
            "\n",
            "\n",
            "Averaged Accuracy:  0.5826923076923076\n",
            "\n",
            "Average Time:  0.008763694763183593\n"
          ]
        }
      ]
    },
    {
      "cell_type": "code",
      "source": [
        "kfold = KFold(5, shuffle = True, random_state = 1)\n",
        "acc = []\n",
        "at = []\n",
        "for train, test in kfold.split(dataTrain):\n",
        "  temp = 0\n",
        "  start = time.time()\n",
        "\n",
        "  model = LogisticRegression(max_iter=10000)\n",
        "  model.fit(dataTrain[Xhead].iloc[train],dataTrain[Yhead].iloc[train].values.reshape(-1,1).ravel())\n",
        "  # predict the labels of the test set\n",
        "  predictedY = model.predict(dataTrain[Xhead].iloc[test])\n",
        "  end = time.time()\n",
        "  print('Finished in', end - start, 'seconds')\n",
        "  at.append(end-start)\n",
        "  acc.append(accuracy_score(dataTrain[Yhead].iloc[test].values.reshape(-1,1),predictedY.reshape(-1,1)))\n",
        "  print('\\nClassification Report:\\n\\n', classification_report(dataTrain[Yhead].iloc[test].values.reshape(-1,1), predictedY.reshape(-1,1)))\n",
        "  print('\\nConfusion Matrix:\\n')\n",
        "  ax = sn.heatmap(confusion_matrix(dataTrain[Yhead].iloc[test].values.reshape(-1,1), predictedY.reshape(-1,1)), annot = True) \n",
        "  plt.show()\n",
        "  print(\"\\n\")\n",
        "print('\\nAveraged Accuracy: ', np.mean(acc))\n",
        "print('\\nAverage Time: ', np.mean(at))"
      ],
      "metadata": {
        "id": "aFEUdDL-wUoZ",
        "colab": {
          "base_uri": "https://localhost:8080/",
          "height": 1000
        },
        "outputId": "28377ec8-d228-4371-9cd3-945ffb855619"
      },
      "execution_count": 44,
      "outputs": [
        {
          "output_type": "stream",
          "name": "stdout",
          "text": [
            "Finished in 1.4384868144989014 seconds\n",
            "\n",
            "Classification Report:\n",
            "\n",
            "               precision    recall  f1-score   support\n",
            "\n",
            "           0       0.56      0.65      0.60        93\n",
            "           1       0.67      0.58      0.62       115\n",
            "\n",
            "    accuracy                           0.61       208\n",
            "   macro avg       0.61      0.61      0.61       208\n",
            "weighted avg       0.62      0.61      0.61       208\n",
            "\n",
            "\n",
            "Confusion Matrix:\n",
            "\n"
          ]
        },
        {
          "output_type": "display_data",
          "data": {
            "text/plain": [
              "<Figure size 432x288 with 2 Axes>"
            ],
            "image/png": "[encoded data removed]"
          },
          "metadata": {
            "needs_background": "light"
          }
        },
        {
          "output_type": "stream",
          "name": "stdout",
          "text": [
            "\n",
            "\n",
            "Finished in 1.9170091152191162 seconds\n",
            "\n",
            "Classification Report:\n",
            "\n",
            "               precision    recall  f1-score   support\n",
            "\n",
            "           0       0.70      0.60      0.64       112\n",
            "           1       0.60      0.70      0.64        96\n",
            "\n",
            "    accuracy                           0.64       208\n",
            "   macro avg       0.65      0.65      0.64       208\n",
            "weighted avg       0.65      0.64      0.64       208\n",
            "\n",
            "\n",
            "Confusion Matrix:\n",
            "\n"
          ]
        },
        {
          "output_type": "display_data",
          "data": {
            "text/plain": [
              "<Figure size 432x288 with 2 Axes>"
            ],
            "image/png": "[encoded data removed]"
          },
          "metadata": {
            "needs_background": "light"
          }
        },
        {
          "output_type": "stream",
          "name": "stdout",
          "text": [
            "\n",
            "\n",
            "Finished in 1.524247169494629 seconds\n",
            "\n",
            "Classification Report:\n",
            "\n",
            "               precision    recall  f1-score   support\n",
            "\n",
            "           0       0.60      0.67      0.64       100\n",
            "           1       0.66      0.59      0.62       108\n",
            "\n",
            "    accuracy                           0.63       208\n",
            "   macro avg       0.63      0.63      0.63       208\n",
            "weighted avg       0.63      0.63      0.63       208\n",
            "\n",
            "\n",
            "Confusion Matrix:\n",
            "\n"
          ]
        },
        {
          "output_type": "display_data",
          "data": {
            "text/plain": [
              "<Figure size 432x288 with 2 Axes>"
            ],
            "image/png": "[encoded data removed]"
          },
          "metadata": {
            "needs_background": "light"
          }
        },
        {
          "output_type": "stream",
          "name": "stdout",
          "text": [
            "\n",
            "\n",
            "Finished in 2.051788568496704 seconds\n",
            "\n",
            "Classification Report:\n",
            "\n",
            "               precision    recall  f1-score   support\n",
            "\n",
            "           0       0.60      0.56      0.58       105\n",
            "           1       0.58      0.61      0.59       103\n",
            "\n",
            "    accuracy                           0.59       208\n",
            "   macro avg       0.59      0.59      0.59       208\n",
            "weighted avg       0.59      0.59      0.59       208\n",
            "\n",
            "\n",
            "Confusion Matrix:\n",
            "\n"
          ]
        },
        {
          "output_type": "display_data",
          "data": {
            "text/plain": [
              "<Figure size 432x288 with 2 Axes>"
            ],
            "image/png": "[encoded data removed]"
          },
          "metadata": {
            "needs_background": "light"
          }
        },
        {
          "output_type": "stream",
          "name": "stdout",
          "text": [
            "\n",
            "\n",
            "Finished in 1.7225463390350342 seconds\n",
            "\n",
            "Classification Report:\n",
            "\n",
            "               precision    recall  f1-score   support\n",
            "\n",
            "           0       0.69      0.59      0.64       110\n",
            "           1       0.61      0.70      0.65        98\n",
            "\n",
            "    accuracy                           0.64       208\n",
            "   macro avg       0.65      0.65      0.64       208\n",
            "weighted avg       0.65      0.64      0.64       208\n",
            "\n",
            "\n",
            "Confusion Matrix:\n",
            "\n"
          ]
        },
        {
          "output_type": "display_data",
          "data": {
            "text/plain": [
              "<Figure size 432x288 with 2 Axes>"
            ],
            "image/png": "[encoded data removed]"
          },
          "metadata": {
            "needs_background": "light"
          }
        },
        {
          "output_type": "stream",
          "name": "stdout",
          "text": [
            "\n",
            "\n",
            "\n",
            "Averaged Accuracy:  0.6230769230769231\n",
            "\n",
            "Average Time:  1.730815601348877\n"
          ]
        }
      ]
    },
    {
      "cell_type": "code",
      "source": [
        "# The previous fishers class was not suited to handle dataframes and \n",
        "# I was having issues converting dataframes into matrices so I made a new class \n",
        "# that was suited to resolve these issues (Basically just have different forms of looping through the data)\n",
        "class TF:\n",
        "    def fit(self, data, label):\n",
        "      # Copy the X and Y data for reduction of errors\n",
        "      X = data.copy()\n",
        "      Y = label.copy()\n",
        "\n",
        "      n = X.shape[0]\n",
        "\n",
        "      # For FLDA we only have 2 classes\n",
        "      uniqueY = 2\n",
        "\n",
        "      # Find the size of each data point\n",
        "      features = X.shape[1]\n",
        "\n",
        "      # Finds the means of each class (2x2)\n",
        "      meanVec = []\n",
        "      for i in range(0, 2):\n",
        "        meanVec.append(np.mean(X.iloc[X.index[Y['class information'] == i]], axis = 0))\n",
        "      \n",
        "      meanVec = np.array(meanVec)\n",
        "      \n",
        "        \n",
        "      # Initilizes the within class scatter matrix\n",
        "      self.SW = np.zeros([features, features])\n",
        "      # Loops through X and meanVec by class (0 or 1) and calculates the scatter\n",
        "      # Zip the Y classes and meanVec together so that we can use the meanVec \n",
        "      # As a 2x1 and at the same time use the classes of X to generate the scatter at each point within the matrix\n",
        "      for i, mv in zip(range(0,len(Y)), meanVec):\n",
        "        classScat = np.zeros([features, features])\n",
        "        for index, j in X.iloc[X.index[Y['class information'] == i]].iterrows():\n",
        "          j, mv = j.values.reshape(features,1), mv.reshape(features,1)\n",
        "          mv = mv.reshape(-1,1)\n",
        "          classScat += (j-mv).dot((j-mv).T)\n",
        "        \n",
        "        self.SW += classScat\n",
        "\n",
        "      # Initilizes the Between class scatter matrix\n",
        "      self.SB = np.zeros([features,features])\n",
        "\n",
        "      # Calculates the overall means of X (1x2)\n",
        "      mean = (np.mean(X, axis = 0))\n",
        "      # Loops through meanVec to generate the Between class Scatter matrix\n",
        "      for mv in meanVec:\n",
        "          self.SB += n * (mv-mean).dot((mv-mean).T)\n",
        "\n",
        "      # Computes the weight matrix\n",
        "      self.W = np.linalg.inv(self.SW) @ self.SB\n",
        "\n",
        "\n",
        "    # Uses the weight matrix and the data to produce predicted outputs\n",
        "    def predict(self, data):\n",
        "      X = data.copy()\n",
        "      x = np.atleast_2d(X).T\n",
        "      \n",
        "      # returns a matrix of 1 and 0\n",
        "      return np.argmax((self.W@x).T, axis = 1)\n",
        "\n",
        "\n",
        "kfold = KFold(5, shuffle = True, random_state = 1)\n",
        "acc = []\n",
        "at = []\n",
        "for train, test in kfold.split(dataTrain):\n",
        "  start = time.time()\n",
        "\n",
        "  model = TF()\n",
        "  model.fit(Xtrain,Ytrain)\n",
        "  # predict the labels of the test set\n",
        "  predictedY = model.predict(dataTrain[Xhead].iloc[test])\n",
        "  end = time.time()\n",
        "  print('Finished in', end - start, 'seconds')\n",
        "  at.append(end-start)\n",
        "  acc.append(accuracy_score(dataTrain[Yhead].iloc[test].values.reshape(-1,1),predictedY.reshape(-1,1)))\n",
        "  # print quality metrics\n",
        "  print('\\nClassification Report:\\n\\n', classification_report(dataTrain[Yhead].iloc[test].values.reshape(-1,1), predictedY.reshape(-1,1)))\n",
        "  print('\\nConfusion Matrix:\\n')\n",
        "  ax = sn.heatmap(confusion_matrix(dataTrain[Yhead].iloc[test].values.reshape(-1,1), predictedY.reshape(-1,1)), annot = True) \n",
        "  plt.show()\n",
        "  print(\"\\n\")\n",
        "print('\\nAveraged Accuracy: ', np.mean(acc))\n",
        "print('\\nAverage Time: ', np.mean(at))"
      ],
      "metadata": {
        "id": "6lRC-syO5UPW",
        "colab": {
          "base_uri": "https://localhost:8080/",
          "height": 1000
        },
        "outputId": "042629b2-65e5-4020-83c9-d673b62a3829"
      },
      "execution_count": 45,
      "outputs": [
        {
          "output_type": "stream",
          "name": "stdout",
          "text": [
            "Finished in 0.06802248954772949 seconds\n",
            "\n",
            "Classification Report:\n",
            "\n",
            "               precision    recall  f1-score   support\n",
            "\n",
            "           0       0.00      0.00      0.00        93\n",
            "           1       0.55      1.00      0.71       115\n",
            "\n",
            "    accuracy                           0.55       208\n",
            "   macro avg       0.28      0.50      0.36       208\n",
            "weighted avg       0.31      0.55      0.39       208\n",
            "\n",
            "\n",
            "Confusion Matrix:\n",
            "\n"
          ]
        },
        {
          "output_type": "stream",
          "name": "stderr",
          "text": [
            "/usr/local/lib/python3.7/dist-packages/sklearn/metrics/_classification.py:1318: UndefinedMetricWarning: Precision and F-score are ill-defined and being set to 0.0 in labels with no predicted samples. Use `zero_division` parameter to control this behavior.\n",
            "  _warn_prf(average, modifier, msg_start, len(result))\n",
            "/usr/local/lib/python3.7/dist-packages/sklearn/metrics/_classification.py:1318: UndefinedMetricWarning: Precision and F-score are ill-defined and being set to 0.0 in labels with no predicted samples. Use `zero_division` parameter to control this behavior.\n",
            "  _warn_prf(average, modifier, msg_start, len(result))\n",
            "/usr/local/lib/python3.7/dist-packages/sklearn/metrics/_classification.py:1318: UndefinedMetricWarning: Precision and F-score are ill-defined and being set to 0.0 in labels with no predicted samples. Use `zero_division` parameter to control this behavior.\n",
            "  _warn_prf(average, modifier, msg_start, len(result))\n"
          ]
        },
        {
          "output_type": "display_data",
          "data": {
            "text/plain": [
              "<Figure size 432x288 with 2 Axes>"
            ],
            "image/png": "[encoded data removed]"
          },
          "metadata": {
            "needs_background": "light"
          }
        },
        {
          "output_type": "stream",
          "name": "stdout",
          "text": [
            "\n",
            "\n",
            "Finished in 0.07099652290344238 seconds\n",
            "\n",
            "Classification Report:\n",
            "\n",
            "               precision    recall  f1-score   support\n",
            "\n",
            "           0       0.00      0.00      0.00       112\n",
            "           1       0.46      1.00      0.63        96\n",
            "\n",
            "    accuracy                           0.46       208\n",
            "   macro avg       0.23      0.50      0.32       208\n",
            "weighted avg       0.21      0.46      0.29       208\n",
            "\n",
            "\n",
            "Confusion Matrix:\n",
            "\n"
          ]
        },
        {
          "output_type": "stream",
          "name": "stderr",
          "text": [
            "/usr/local/lib/python3.7/dist-packages/sklearn/metrics/_classification.py:1318: UndefinedMetricWarning: Precision and F-score are ill-defined and being set to 0.0 in labels with no predicted samples. Use `zero_division` parameter to control this behavior.\n",
            "  _warn_prf(average, modifier, msg_start, len(result))\n",
            "/usr/local/lib/python3.7/dist-packages/sklearn/metrics/_classification.py:1318: UndefinedMetricWarning: Precision and F-score are ill-defined and being set to 0.0 in labels with no predicted samples. Use `zero_division` parameter to control this behavior.\n",
            "  _warn_prf(average, modifier, msg_start, len(result))\n",
            "/usr/local/lib/python3.7/dist-packages/sklearn/metrics/_classification.py:1318: UndefinedMetricWarning: Precision and F-score are ill-defined and being set to 0.0 in labels with no predicted samples. Use `zero_division` parameter to control this behavior.\n",
            "  _warn_prf(average, modifier, msg_start, len(result))\n"
          ]
        },
        {
          "output_type": "display_data",
          "data": {
            "text/plain": [
              "<Figure size 432x288 with 2 Axes>"
            ],
            "image/png": "[encoded data removed]"
          },
          "metadata": {
            "needs_background": "light"
          }
        },
        {
          "output_type": "stream",
          "name": "stdout",
          "text": [
            "\n",
            "\n",
            "Finished in 0.07748794555664062 seconds\n",
            "\n",
            "Classification Report:\n",
            "\n",
            "               precision    recall  f1-score   support\n",
            "\n",
            "           0       0.00      0.00      0.00       100\n",
            "           1       0.52      1.00      0.68       108\n",
            "\n",
            "    accuracy                           0.52       208\n",
            "   macro avg       0.26      0.50      0.34       208\n",
            "weighted avg       0.27      0.52      0.35       208\n",
            "\n",
            "\n",
            "Confusion Matrix:\n",
            "\n"
          ]
        },
        {
          "output_type": "stream",
          "name": "stderr",
          "text": [
            "/usr/local/lib/python3.7/dist-packages/sklearn/metrics/_classification.py:1318: UndefinedMetricWarning: Precision and F-score are ill-defined and being set to 0.0 in labels with no predicted samples. Use `zero_division` parameter to control this behavior.\n",
            "  _warn_prf(average, modifier, msg_start, len(result))\n",
            "/usr/local/lib/python3.7/dist-packages/sklearn/metrics/_classification.py:1318: UndefinedMetricWarning: Precision and F-score are ill-defined and being set to 0.0 in labels with no predicted samples. Use `zero_division` parameter to control this behavior.\n",
            "  _warn_prf(average, modifier, msg_start, len(result))\n",
            "/usr/local/lib/python3.7/dist-packages/sklearn/metrics/_classification.py:1318: UndefinedMetricWarning: Precision and F-score are ill-defined and being set to 0.0 in labels with no predicted samples. Use `zero_division` parameter to control this behavior.\n",
            "  _warn_prf(average, modifier, msg_start, len(result))\n"
          ]
        },
        {
          "output_type": "display_data",
          "data": {
            "text/plain": [
              "<Figure size 432x288 with 2 Axes>"
            ],
            "image/png": "[encoded data removed]"
          },
          "metadata": {
            "needs_background": "light"
          }
        },
        {
          "output_type": "stream",
          "name": "stdout",
          "text": [
            "\n",
            "\n",
            "Finished in 0.0724952220916748 seconds\n",
            "\n",
            "Classification Report:\n",
            "\n",
            "               precision    recall  f1-score   support\n",
            "\n",
            "           0       0.00      0.00      0.00       105\n",
            "           1       0.50      1.00      0.66       103\n",
            "\n",
            "    accuracy                           0.50       208\n",
            "   macro avg       0.25      0.50      0.33       208\n",
            "weighted avg       0.25      0.50      0.33       208\n",
            "\n",
            "\n",
            "Confusion Matrix:\n",
            "\n"
          ]
        },
        {
          "output_type": "stream",
          "name": "stderr",
          "text": [
            "/usr/local/lib/python3.7/dist-packages/sklearn/metrics/_classification.py:1318: UndefinedMetricWarning: Precision and F-score are ill-defined and being set to 0.0 in labels with no predicted samples. Use `zero_division` parameter to control this behavior.\n",
            "  _warn_prf(average, modifier, msg_start, len(result))\n",
            "/usr/local/lib/python3.7/dist-packages/sklearn/metrics/_classification.py:1318: UndefinedMetricWarning: Precision and F-score are ill-defined and being set to 0.0 in labels with no predicted samples. Use `zero_division` parameter to control this behavior.\n",
            "  _warn_prf(average, modifier, msg_start, len(result))\n",
            "/usr/local/lib/python3.7/dist-packages/sklearn/metrics/_classification.py:1318: UndefinedMetricWarning: Precision and F-score are ill-defined and being set to 0.0 in labels with no predicted samples. Use `zero_division` parameter to control this behavior.\n",
            "  _warn_prf(average, modifier, msg_start, len(result))\n"
          ]
        },
        {
          "output_type": "display_data",
          "data": {
            "text/plain": [
              "<Figure size 432x288 with 2 Axes>"
            ],
            "image/png": "[encoded data removed]"
          },
          "metadata": {
            "needs_background": "light"
          }
        },
        {
          "output_type": "stream",
          "name": "stdout",
          "text": [
            "\n",
            "\n",
            "Finished in 0.08123898506164551 seconds\n",
            "\n",
            "Classification Report:\n",
            "\n",
            "               precision    recall  f1-score   support\n",
            "\n",
            "           0       0.00      0.00      0.00       110\n",
            "           1       0.47      1.00      0.64        98\n",
            "\n",
            "    accuracy                           0.47       208\n",
            "   macro avg       0.24      0.50      0.32       208\n",
            "weighted avg       0.22      0.47      0.30       208\n",
            "\n",
            "\n",
            "Confusion Matrix:\n",
            "\n"
          ]
        },
        {
          "output_type": "stream",
          "name": "stderr",
          "text": [
            "/usr/local/lib/python3.7/dist-packages/sklearn/metrics/_classification.py:1318: UndefinedMetricWarning: Precision and F-score are ill-defined and being set to 0.0 in labels with no predicted samples. Use `zero_division` parameter to control this behavior.\n",
            "  _warn_prf(average, modifier, msg_start, len(result))\n",
            "/usr/local/lib/python3.7/dist-packages/sklearn/metrics/_classification.py:1318: UndefinedMetricWarning: Precision and F-score are ill-defined and being set to 0.0 in labels with no predicted samples. Use `zero_division` parameter to control this behavior.\n",
            "  _warn_prf(average, modifier, msg_start, len(result))\n",
            "/usr/local/lib/python3.7/dist-packages/sklearn/metrics/_classification.py:1318: UndefinedMetricWarning: Precision and F-score are ill-defined and being set to 0.0 in labels with no predicted samples. Use `zero_division` parameter to control this behavior.\n",
            "  _warn_prf(average, modifier, msg_start, len(result))\n"
          ]
        },
        {
          "output_type": "display_data",
          "data": {
            "text/plain": [
              "<Figure size 432x288 with 2 Axes>"
            ],
            "image/png": "[encoded data removed]"
          },
          "metadata": {
            "needs_background": "light"
          }
        },
        {
          "output_type": "stream",
          "name": "stdout",
          "text": [
            "\n",
            "\n",
            "\n",
            "Averaged Accuracy:  0.5000000000000001\n",
            "\n",
            "Average Time:  0.07404823303222656\n"
          ]
        }
      ]
    },
    {
      "cell_type": "code",
      "source": [
        "kfold = KFold(5, shuffle = True, random_state = 1)\n",
        "acc = []\n",
        "at = []\n",
        "for train, test in kfold.split(dataTrain):\n",
        "  start = time.time()\n",
        "\n",
        "  model = LinearDiscriminantAnalysis()\n",
        "  model.fit(dataTrain[Xhead].iloc[train],dataTrain[Yhead].iloc[train].values.reshape(-1,1).ravel())\n",
        "  # predict the labels of the test set\n",
        "  predictedY = model.predict(dataTrain[Xhead].iloc[test])\n",
        "  end = time.time()\n",
        "  print('Finished in', end - start, 'seconds')\n",
        "  at.append(end-start)\n",
        "  acc.append(accuracy_score(dataTrain[Yhead].iloc[test].values.reshape(-1,1),predictedY.reshape(-1,1)))\n",
        "  # print quality metrics\n",
        "  print('\\nClassification Report:\\n\\n', classification_report(dataTrain[Yhead].iloc[test].values.reshape(-1,1), predictedY.reshape(-1,1)))\n",
        "  print('\\nConfusion Matrix:\\n')\n",
        "  ax = sn.heatmap(confusion_matrix(dataTrain[Yhead].iloc[test].values.reshape(-1,1), predictedY.reshape(-1,1)), annot = True) \n",
        "  plt.show()\n",
        "  print(\"\\n\")\n",
        "print('\\nAveraged Accuracy: ', np.mean(acc))\n",
        "print('\\nAverage Time: ', np.mean(at))"
      ],
      "metadata": {
        "id": "4yvSYTS9wZ8c",
        "colab": {
          "base_uri": "https://localhost:8080/",
          "height": 1000
        },
        "outputId": "f8897765-f6a8-44c4-84cd-bbf3d97ff095"
      },
      "execution_count": 46,
      "outputs": [
        {
          "output_type": "stream",
          "name": "stdout",
          "text": [
            "Finished in 0.026650190353393555 seconds\n",
            "\n",
            "Classification Report:\n",
            "\n",
            "               precision    recall  f1-score   support\n",
            "\n",
            "           0       0.58      0.65      0.61        93\n",
            "           1       0.68      0.62      0.65       115\n",
            "\n",
            "    accuracy                           0.63       208\n",
            "   macro avg       0.63      0.63      0.63       208\n",
            "weighted avg       0.64      0.63      0.63       208\n",
            "\n",
            "\n",
            "Confusion Matrix:\n",
            "\n"
          ]
        },
        {
          "output_type": "display_data",
          "data": {
            "text/plain": [
              "<Figure size 432x288 with 2 Axes>"
            ],
            "image/png": "[encoded data removed]"
          },
          "metadata": {
            "needs_background": "light"
          }
        },
        {
          "output_type": "stream",
          "name": "stdout",
          "text": [
            "\n",
            "\n",
            "Finished in 0.013401508331298828 seconds\n",
            "\n",
            "Classification Report:\n",
            "\n",
            "               precision    recall  f1-score   support\n",
            "\n",
            "           0       0.69      0.61      0.65       112\n",
            "           1       0.60      0.69      0.64        96\n",
            "\n",
            "    accuracy                           0.64       208\n",
            "   macro avg       0.65      0.65      0.64       208\n",
            "weighted avg       0.65      0.64      0.64       208\n",
            "\n",
            "\n",
            "Confusion Matrix:\n",
            "\n"
          ]
        },
        {
          "output_type": "display_data",
          "data": {
            "text/plain": [
              "<Figure size 432x288 with 2 Axes>"
            ],
            "image/png": "[encoded data removed]"
          },
          "metadata": {
            "needs_background": "light"
          }
        },
        {
          "output_type": "stream",
          "name": "stdout",
          "text": [
            "\n",
            "\n",
            "Finished in 0.015015125274658203 seconds\n",
            "\n",
            "Classification Report:\n",
            "\n",
            "               precision    recall  f1-score   support\n",
            "\n",
            "           0       0.62      0.75      0.68       100\n",
            "           1       0.71      0.57      0.64       108\n",
            "\n",
            "    accuracy                           0.66       208\n",
            "   macro avg       0.67      0.66      0.66       208\n",
            "weighted avg       0.67      0.66      0.66       208\n",
            "\n",
            "\n",
            "Confusion Matrix:\n",
            "\n"
          ]
        },
        {
          "output_type": "display_data",
          "data": {
            "text/plain": [
              "<Figure size 432x288 with 2 Axes>"
            ],
            "image/png": "[encoded data removed]"
          },
          "metadata": {
            "needs_background": "light"
          }
        },
        {
          "output_type": "stream",
          "name": "stdout",
          "text": [
            "\n",
            "\n",
            "Finished in 0.012923479080200195 seconds\n",
            "\n",
            "Classification Report:\n",
            "\n",
            "               precision    recall  f1-score   support\n",
            "\n",
            "           0       0.58      0.59      0.59       105\n",
            "           1       0.58      0.57      0.58       103\n",
            "\n",
            "    accuracy                           0.58       208\n",
            "   macro avg       0.58      0.58      0.58       208\n",
            "weighted avg       0.58      0.58      0.58       208\n",
            "\n",
            "\n",
            "Confusion Matrix:\n",
            "\n"
          ]
        },
        {
          "output_type": "display_data",
          "data": {
            "text/plain": [
              "<Figure size 432x288 with 2 Axes>"
            ],
            "image/png": "[encoded data removed]"
          },
          "metadata": {
            "needs_background": "light"
          }
        },
        {
          "output_type": "stream",
          "name": "stdout",
          "text": [
            "\n",
            "\n",
            "Finished in 0.012770891189575195 seconds\n",
            "\n",
            "Classification Report:\n",
            "\n",
            "               precision    recall  f1-score   support\n",
            "\n",
            "           0       0.72      0.56      0.63       110\n",
            "           1       0.61      0.76      0.67        98\n",
            "\n",
            "    accuracy                           0.65       208\n",
            "   macro avg       0.66      0.66      0.65       208\n",
            "weighted avg       0.67      0.65      0.65       208\n",
            "\n",
            "\n",
            "Confusion Matrix:\n",
            "\n"
          ]
        },
        {
          "output_type": "display_data",
          "data": {
            "text/plain": [
              "<Figure size 432x288 with 2 Axes>"
            ],
            "image/png": "[encoded data removed]"
          },
          "metadata": {
            "needs_background": "light"
          }
        },
        {
          "output_type": "stream",
          "name": "stdout",
          "text": [
            "\n",
            "\n",
            "\n",
            "Averaged Accuracy:  0.6336538461538461\n",
            "\n",
            "Average Time:  0.016152238845825194\n"
          ]
        }
      ]
    },
    {
      "cell_type": "code",
      "source": [
        "kfold = KFold(5, shuffle = True, random_state = 1)\n",
        "acc = []\n",
        "at =[]\n",
        "for train, test in kfold.split(dataTrain):\n",
        "  start = time.time()\n",
        "\n",
        "  model = QuadraticDiscriminantAnalysis()\n",
        "  model.fit(dataTrain[Xhead].iloc[train],dataTrain[Yhead].iloc[train].values.reshape(-1,1).ravel())\n",
        "  # predict the labels of the test set\n",
        "  predictedY = model.predict(dataTrain[Xhead].iloc[test])\n",
        "  end = time.time()\n",
        "  print('Finished in', end - start, 'seconds')\n",
        "  at.append(end-start)\n",
        "  acc.append(accuracy_score(dataTrain[Yhead].iloc[test].values.reshape(-1,1),predictedY.reshape(-1,1)))\n",
        "  # print quality metrics\n",
        "  print('\\nClassification Report:\\n\\n', classification_report(dataTrain[Yhead].iloc[test].values.reshape(-1,1), predictedY.reshape(-1,1)))\n",
        "  print('\\nConfusion Matrix:\\n')\n",
        "  ax = sn.heatmap(confusion_matrix(dataTrain[Yhead].iloc[test].values.reshape(-1,1), predictedY.reshape(-1,1)), annot = True) \n",
        "  plt.show()\n",
        "  print(\"\\n\")\n",
        "print('\\nAveraged Accuracy: ', np.mean(acc))\n",
        "print('\\nAverage Time: ', np.mean(at))"
      ],
      "metadata": {
        "id": "beX2yZW1whef",
        "colab": {
          "base_uri": "https://localhost:8080/",
          "height": 1000
        },
        "outputId": "eb8ad4e1-d320-46a2-e79d-1d3acb6d8c0d"
      },
      "execution_count": 47,
      "outputs": [
        {
          "output_type": "stream",
          "name": "stdout",
          "text": [
            "Finished in 0.016789674758911133 seconds\n",
            "\n",
            "Classification Report:\n",
            "\n",
            "               precision    recall  f1-score   support\n",
            "\n",
            "           0       0.54      0.32      0.40        93\n",
            "           1       0.59      0.77      0.67       115\n",
            "\n",
            "    accuracy                           0.57       208\n",
            "   macro avg       0.56      0.55      0.53       208\n",
            "weighted avg       0.56      0.57      0.55       208\n",
            "\n",
            "\n",
            "Confusion Matrix:\n",
            "\n"
          ]
        },
        {
          "output_type": "display_data",
          "data": {
            "text/plain": [
              "<Figure size 432x288 with 2 Axes>"
            ],
            "image/png": "[encoded data removed]"
          },
          "metadata": {
            "needs_background": "light"
          }
        },
        {
          "output_type": "stream",
          "name": "stdout",
          "text": [
            "\n",
            "\n",
            "Finished in 0.015227079391479492 seconds\n",
            "\n",
            "Classification Report:\n",
            "\n",
            "               precision    recall  f1-score   support\n",
            "\n",
            "           0       0.68      0.27      0.38       112\n",
            "           1       0.50      0.85      0.63        96\n",
            "\n",
            "    accuracy                           0.54       208\n",
            "   macro avg       0.59      0.56      0.51       208\n",
            "weighted avg       0.60      0.54      0.50       208\n",
            "\n",
            "\n",
            "Confusion Matrix:\n",
            "\n"
          ]
        },
        {
          "output_type": "display_data",
          "data": {
            "text/plain": [
              "<Figure size 432x288 with 2 Axes>"
            ],
            "image/png": "[encoded data removed]"
          },
          "metadata": {
            "needs_background": "light"
          }
        },
        {
          "output_type": "stream",
          "name": "stdout",
          "text": [
            "\n",
            "\n",
            "Finished in 0.014238834381103516 seconds\n",
            "\n",
            "Classification Report:\n",
            "\n",
            "               precision    recall  f1-score   support\n",
            "\n",
            "           0       0.69      0.43      0.53       100\n",
            "           1       0.61      0.82      0.70       108\n",
            "\n",
            "    accuracy                           0.63       208\n",
            "   macro avg       0.65      0.63      0.62       208\n",
            "weighted avg       0.65      0.63      0.62       208\n",
            "\n",
            "\n",
            "Confusion Matrix:\n",
            "\n"
          ]
        },
        {
          "output_type": "display_data",
          "data": {
            "text/plain": [
              "<Figure size 432x288 with 2 Axes>"
            ],
            "image/png": "[encoded data removed]"
          },
          "metadata": {
            "needs_background": "light"
          }
        },
        {
          "output_type": "stream",
          "name": "stdout",
          "text": [
            "\n",
            "\n",
            "Finished in 0.014490365982055664 seconds\n",
            "\n",
            "Classification Report:\n",
            "\n",
            "               precision    recall  f1-score   support\n",
            "\n",
            "           0       0.65      0.31      0.42       105\n",
            "           1       0.54      0.83      0.65       103\n",
            "\n",
            "    accuracy                           0.57       208\n",
            "   macro avg       0.59      0.57      0.54       208\n",
            "weighted avg       0.59      0.57      0.54       208\n",
            "\n",
            "\n",
            "Confusion Matrix:\n",
            "\n"
          ]
        },
        {
          "output_type": "display_data",
          "data": {
            "text/plain": [
              "<Figure size 432x288 with 2 Axes>"
            ],
            "image/png": "[encoded data removed]"
          },
          "metadata": {
            "needs_background": "light"
          }
        },
        {
          "output_type": "stream",
          "name": "stdout",
          "text": [
            "\n",
            "\n",
            "Finished in 0.014154672622680664 seconds\n",
            "\n",
            "Classification Report:\n",
            "\n",
            "               precision    recall  f1-score   support\n",
            "\n",
            "           0       0.75      0.27      0.40       110\n",
            "           1       0.52      0.90      0.66        98\n",
            "\n",
            "    accuracy                           0.57       208\n",
            "   macro avg       0.64      0.59      0.53       208\n",
            "weighted avg       0.64      0.57      0.52       208\n",
            "\n",
            "\n",
            "Confusion Matrix:\n",
            "\n"
          ]
        },
        {
          "output_type": "display_data",
          "data": {
            "text/plain": [
              "<Figure size 432x288 with 2 Axes>"
            ],
            "image/png": "[encoded data removed]"
          },
          "metadata": {
            "needs_background": "light"
          }
        },
        {
          "output_type": "stream",
          "name": "stdout",
          "text": [
            "\n",
            "\n",
            "\n",
            "Averaged Accuracy:  0.5759615384615385\n",
            "\n",
            "Average Time:  0.014980125427246093\n"
          ]
        }
      ]
    },
    {
      "cell_type": "code",
      "source": [
        "kfold = KFold(5, shuffle = True, random_state = 1)\n",
        "acc = []\n",
        "at = []\n",
        "for train, test in kfold.split(dataTrain):\n",
        "  start = time.time()\n",
        "\n",
        "  model = KNeighborsClassifier()\n",
        "  model.fit(dataTrain[Xhead].iloc[train],dataTrain[Yhead].iloc[train].values.reshape(-1,1).ravel())\n",
        "  end = time.time()\n",
        "  print('Finished in', end - start, 'seconds')\n",
        "  # predict the labels of the test set\n",
        "  predictedY = model.predict(dataTrain[Xhead].iloc[test])\n",
        "  end = time.time()\n",
        "  at.append(end-start)\n",
        "  acc.append(accuracy_score(dataTrain[Yhead].iloc[test].values.reshape(-1,1),predictedY.reshape(-1,1)))\n",
        "  # print quality metrics\n",
        "  print('\\nClassification Report:\\n\\n', classification_report(dataTrain[Yhead].iloc[test].values.reshape(-1,1), predictedY.reshape(-1,1)))\n",
        "  print('\\nConfusion Matrix:\\n')\n",
        "  ax = sn.heatmap(confusion_matrix(dataTrain[Yhead].iloc[test].values.reshape(-1,1), predictedY.reshape(-1,1)), annot = True) \n",
        "  plt.show()\n",
        "  print(\"\\n\")  \n",
        "print('\\nAveraged Accuracy: ', np.mean(acc))\n",
        "print('\\nAverage Time: ', np.mean(at))"
      ],
      "metadata": {
        "id": "iDnlNPXsxgj_",
        "colab": {
          "base_uri": "https://localhost:8080/",
          "height": 1000
        },
        "outputId": "3e5975f9-c16d-41a2-8d7a-f857fa37c412"
      },
      "execution_count": 48,
      "outputs": [
        {
          "output_type": "stream",
          "name": "stdout",
          "text": [
            "Finished in 0.0037810802459716797 seconds\n",
            "\n",
            "Classification Report:\n",
            "\n",
            "               precision    recall  f1-score   support\n",
            "\n",
            "           0       0.58      0.62      0.60        93\n",
            "           1       0.68      0.63      0.65       115\n",
            "\n",
            "    accuracy                           0.63       208\n",
            "   macro avg       0.63      0.63      0.63       208\n",
            "weighted avg       0.63      0.63      0.63       208\n",
            "\n",
            "\n",
            "Confusion Matrix:\n",
            "\n"
          ]
        },
        {
          "output_type": "display_data",
          "data": {
            "text/plain": [
              "<Figure size 432x288 with 2 Axes>"
            ],
            "image/png": "[encoded data removed]"
          },
          "metadata": {
            "needs_background": "light"
          }
        },
        {
          "output_type": "stream",
          "name": "stdout",
          "text": [
            "\n",
            "\n",
            "Finished in 0.006337165832519531 seconds\n",
            "\n",
            "Classification Report:\n",
            "\n",
            "               precision    recall  f1-score   support\n",
            "\n",
            "           0       0.71      0.62      0.66       112\n",
            "           1       0.61      0.71      0.66        96\n",
            "\n",
            "    accuracy                           0.66       208\n",
            "   macro avg       0.66      0.66      0.66       208\n",
            "weighted avg       0.67      0.66      0.66       208\n",
            "\n",
            "\n",
            "Confusion Matrix:\n",
            "\n"
          ]
        },
        {
          "output_type": "display_data",
          "data": {
            "text/plain": [
              "<Figure size 432x288 with 2 Axes>"
            ],
            "image/png": "[encoded data removed]"
          },
          "metadata": {
            "needs_background": "light"
          }
        },
        {
          "output_type": "stream",
          "name": "stdout",
          "text": [
            "\n",
            "\n",
            "Finished in 0.005232334136962891 seconds\n",
            "\n",
            "Classification Report:\n",
            "\n",
            "               precision    recall  f1-score   support\n",
            "\n",
            "           0       0.59      0.66      0.63       100\n",
            "           1       0.65      0.58      0.61       108\n",
            "\n",
            "    accuracy                           0.62       208\n",
            "   macro avg       0.62      0.62      0.62       208\n",
            "weighted avg       0.62      0.62      0.62       208\n",
            "\n",
            "\n",
            "Confusion Matrix:\n",
            "\n"
          ]
        },
        {
          "output_type": "display_data",
          "data": {
            "text/plain": [
              "<Figure size 432x288 with 2 Axes>"
            ],
            "image/png": "[encoded data removed]"
          },
          "metadata": {
            "needs_background": "light"
          }
        },
        {
          "output_type": "stream",
          "name": "stdout",
          "text": [
            "\n",
            "\n",
            "Finished in 0.00522303581237793 seconds\n",
            "\n",
            "Classification Report:\n",
            "\n",
            "               precision    recall  f1-score   support\n",
            "\n",
            "           0       0.60      0.67      0.63       105\n",
            "           1       0.62      0.54      0.58       103\n",
            "\n",
            "    accuracy                           0.61       208\n",
            "   macro avg       0.61      0.61      0.60       208\n",
            "weighted avg       0.61      0.61      0.60       208\n",
            "\n",
            "\n",
            "Confusion Matrix:\n",
            "\n"
          ]
        },
        {
          "output_type": "display_data",
          "data": {
            "text/plain": [
              "<Figure size 432x288 with 2 Axes>"
            ],
            "image/png": "[encoded data removed]"
          },
          "metadata": {
            "needs_background": "light"
          }
        },
        {
          "output_type": "stream",
          "name": "stdout",
          "text": [
            "\n",
            "\n",
            "Finished in 0.005613088607788086 seconds\n",
            "\n",
            "Classification Report:\n",
            "\n",
            "               precision    recall  f1-score   support\n",
            "\n",
            "           0       0.64      0.67      0.66       110\n",
            "           1       0.61      0.58      0.60        98\n",
            "\n",
            "    accuracy                           0.63       208\n",
            "   macro avg       0.63      0.63      0.63       208\n",
            "weighted avg       0.63      0.63      0.63       208\n",
            "\n",
            "\n",
            "Confusion Matrix:\n",
            "\n"
          ]
        },
        {
          "output_type": "display_data",
          "data": {
            "text/plain": [
              "<Figure size 432x288 with 2 Axes>"
            ],
            "image/png": "[encoded data removed]"
          },
          "metadata": {
            "needs_background": "light"
          }
        },
        {
          "output_type": "stream",
          "name": "stdout",
          "text": [
            "\n",
            "\n",
            "\n",
            "Averaged Accuracy:  0.6288461538461538\n",
            "\n",
            "Average Time:  0.023803234100341797\n"
          ]
        }
      ]
    },
    {
      "cell_type": "code",
      "source": [
        "# I had the same problem with DANN so I decided to make a new class\n",
        "class DANN2():\n",
        "  def fit(self, X, Y, neighbors, epsilon):\n",
        "    self.X = X\n",
        "    self.Y = Y\n",
        "    self.neighbors = neighbors\n",
        "    self.epsilon = epsilon\n",
        "\n",
        "  def predict(self, x, k):\n",
        "    uniqueY = np.unique(self.Y)\n",
        "    datapoints = self.X.shape[0]\n",
        "    features = self.X.shape[1]\n",
        "    distances = []\n",
        "    for index, row in self.X.iterrows():\n",
        "      kdist = np.linalg.norm(x-row)\n",
        "      indices = np.argsort(distances)[:self.neighbors]\n",
        "      distances.append(kdist)\n",
        "    nearest_neighbors = self.X.iloc[indices]\n",
        "    nmean_x = np.mean(nearest_neighbors, axis = 0)\n",
        "    nmean_x = nmean_x.values\n",
        "    neighbors_y = self.Y.iloc[indices]\n",
        "    classes = np.unique(neighbors_y)\n",
        "\n",
        "    SW = np.zeros([features, features])\n",
        "    SB = np.zeros([features, features])\n",
        "    meanVec = []\n",
        "    for i in classes:\n",
        "      meanVec.append(np.mean(nearest_neighbors[neighbors_y==i], axis = 0))\n",
        "    meanVec = np.array(meanVec)\n",
        "    for i, mv in zip(classes,meanVec):\n",
        "      classScat = np.zeros([features, features])\n",
        "      #for index, j in X.iloc[X.index[Y['class information'] == i]].iterrows():\n",
        "      for index, j in nearest_neighbors.loc[nearest_neighbors.index[neighbors_y['class information'] == i]].iterrows():\n",
        "        j, mv = j.values.reshape(features,1), mv.reshape(features,1)\n",
        "        classScat += (j-mv).dot((j-mv).T)\n",
        "      SW += classScat\n",
        "    \n",
        "    for i, mv in enumerate(meanVec):\n",
        "      mv, nmean_x = mv.reshape(features,1), nmean_x.reshape(features,1)\n",
        "      SB += (1/datapoints) * (mv-nmean_x).dot((mv-nmean_x).T)\n",
        "\n",
        "\n",
        "    W = np.linalg.pinv(np.nan_to_num(np.power(SW, -0.5)))\n",
        "    B = np.dot(W, SB).dot(W)\n",
        "    I = np.identity(features)\n",
        "    sigma = W.dot(B + self.epsilon * I).dot(W)\n",
        "\n",
        "    prediction = []\n",
        "    for index, row in x.iterrows():\n",
        "      distances = (x-row) @ sigma @ (x-row).T\n",
        "      nearest = distances.argsort(kind = 'quicksort')[:k]\n",
        "      prediction.append(stats.mode(self.Y.iloc[nearest])[0][0][0])\n",
        "    return prediction\n",
        "\n",
        "\n",
        "kfold = KFold(5, shuffle = True, random_state = 1)\n",
        "acc = []\n",
        "at = []\n",
        "for train, test in kfold.split(dataTrain):\n",
        "  start = time.time()\n",
        "\n",
        "  model = DANN2()\n",
        "  model.fit(dataTrain[Xhead].iloc[train],dataTrain[Yhead].iloc[train], 50, 1)\n",
        "  # predict the labels of the test set\n",
        "  predictedY = model.predict(dataTrain[Xhead].iloc[test], 10)\n",
        "  end = time.time()\n",
        "  print('Finished in', end - start, 'seconds')\n",
        "  at.append(end-start)\n",
        "  acc.append(accuracy_score(dataTrain[Yhead].iloc[test].values.reshape(-1,1),predictedY))\n",
        "  # print quality metrics\n",
        "  print('\\nClassification Report:\\n\\n', classification_report(dataTrain[Yhead].iloc[test].values.reshape(-1,1), predictedY))\n",
        "  print('\\nConfusion Matrix:\\n')\n",
        "  ax = sn.heatmap(confusion_matrix(dataTrain[Yhead].iloc[test].values.reshape(-1,1), predictedY), annot = True) \n",
        "  plt.show()\n",
        "  print(\"\\n\")  \n",
        "print('\\nAveraged Accuracy: ', np.mean(acc))\n",
        "print('\\nAverage Time: ', np.mean(at))"
      ],
      "metadata": {
        "id": "QSF7WC_UuSzC",
        "colab": {
          "base_uri": "https://localhost:8080/",
          "height": 1000
        },
        "outputId": "a215df92-37fd-4602-ba7f-5203dbe421a6"
      },
      "execution_count": 49,
      "outputs": [
        {
          "output_type": "stream",
          "name": "stdout",
          "text": [
            "Finished in 2.4126319885253906 seconds\n",
            "\n",
            "Classification Report:\n",
            "\n",
            "               precision    recall  f1-score   support\n",
            "\n",
            "           0       0.57      0.73      0.64        93\n",
            "           1       0.72      0.56      0.63       115\n",
            "\n",
            "    accuracy                           0.63       208\n",
            "   macro avg       0.65      0.64      0.63       208\n",
            "weighted avg       0.65      0.63      0.63       208\n",
            "\n",
            "\n",
            "Confusion Matrix:\n",
            "\n"
          ]
        },
        {
          "output_type": "display_data",
          "data": {
            "text/plain": [
              "<Figure size 432x288 with 2 Axes>"
            ],
            "image/png": "[encoded data removed]"
          },
          "metadata": {
            "needs_background": "light"
          }
        },
        {
          "output_type": "stream",
          "name": "stdout",
          "text": [
            "\n",
            "\n",
            "Finished in 2.4229540824890137 seconds\n",
            "\n",
            "Classification Report:\n",
            "\n",
            "               precision    recall  f1-score   support\n",
            "\n",
            "           0       0.71      0.71      0.71       112\n",
            "           1       0.66      0.66      0.66        96\n",
            "\n",
            "    accuracy                           0.69       208\n",
            "   macro avg       0.69      0.69      0.69       208\n",
            "weighted avg       0.69      0.69      0.69       208\n",
            "\n",
            "\n",
            "Confusion Matrix:\n",
            "\n"
          ]
        },
        {
          "output_type": "display_data",
          "data": {
            "text/plain": [
              "<Figure size 432x288 with 2 Axes>"
            ],
            "image/png": "[encoded data removed]"
          },
          "metadata": {
            "needs_background": "light"
          }
        },
        {
          "output_type": "stream",
          "name": "stdout",
          "text": [
            "\n",
            "\n",
            "Finished in 2.4130594730377197 seconds\n",
            "\n",
            "Classification Report:\n",
            "\n",
            "               precision    recall  f1-score   support\n",
            "\n",
            "           0       0.57      0.71      0.63       100\n",
            "           1       0.65      0.50      0.57       108\n",
            "\n",
            "    accuracy                           0.60       208\n",
            "   macro avg       0.61      0.60      0.60       208\n",
            "weighted avg       0.61      0.60      0.60       208\n",
            "\n",
            "\n",
            "Confusion Matrix:\n",
            "\n"
          ]
        },
        {
          "output_type": "display_data",
          "data": {
            "text/plain": [
              "<Figure size 432x288 with 2 Axes>"
            ],
            "image/png": "[encoded data removed]"
          },
          "metadata": {
            "needs_background": "light"
          }
        },
        {
          "output_type": "stream",
          "name": "stdout",
          "text": [
            "\n",
            "\n",
            "Finished in 2.388706922531128 seconds\n",
            "\n",
            "Classification Report:\n",
            "\n",
            "               precision    recall  f1-score   support\n",
            "\n",
            "           0       0.58      0.71      0.64       105\n",
            "           1       0.62      0.48      0.54       103\n",
            "\n",
            "    accuracy                           0.60       208\n",
            "   macro avg       0.60      0.60      0.59       208\n",
            "weighted avg       0.60      0.60      0.59       208\n",
            "\n",
            "\n",
            "Confusion Matrix:\n",
            "\n"
          ]
        },
        {
          "output_type": "display_data",
          "data": {
            "text/plain": [
              "<Figure size 432x288 with 2 Axes>"
            ],
            "image/png": "[encoded data removed]"
          },
          "metadata": {
            "needs_background": "light"
          }
        },
        {
          "output_type": "stream",
          "name": "stdout",
          "text": [
            "\n",
            "\n",
            "Finished in 2.426769733428955 seconds\n",
            "\n",
            "Classification Report:\n",
            "\n",
            "               precision    recall  f1-score   support\n",
            "\n",
            "           0       0.63      0.70      0.66       110\n",
            "           1       0.61      0.53      0.57        98\n",
            "\n",
            "    accuracy                           0.62       208\n",
            "   macro avg       0.62      0.62      0.61       208\n",
            "weighted avg       0.62      0.62      0.62       208\n",
            "\n",
            "\n",
            "Confusion Matrix:\n",
            "\n"
          ]
        },
        {
          "output_type": "display_data",
          "data": {
            "text/plain": [
              "<Figure size 432x288 with 2 Axes>"
            ],
            "image/png": "[encoded data removed]"
          },
          "metadata": {
            "needs_background": "light"
          }
        },
        {
          "output_type": "stream",
          "name": "stdout",
          "text": [
            "\n",
            "\n",
            "\n",
            "Averaged Accuracy:  0.6278846153846154\n",
            "\n",
            "Average Time:  2.4128244400024412\n"
          ]
        }
      ]
    },
    {
      "cell_type": "markdown",
      "source": [
        "##**Problem #4**\n",
        "\n",
        "The two classifiers that took the longest were DANN followed by logistic regression. After using PCA to reduce the dimensions and contain 90% of the variation, we were able to reduce the computational time significantly for logistic regression, going from 1.73 seconds on average down to 0.012 seconds. For DANN we were able to reduce the computation time from 2.42 seconds down to 2.04 seconds. Logistic Regression lost roughly 10 percent accuracy while DANN gained 7 percent accuracy."
      ],
      "metadata": {
        "id": "M7osPUcPJi4p"
      }
    },
    {
      "cell_type": "code",
      "source": [
        "def PCA(Xtrain, alpha):        \n",
        "    # find the original dimension and print it\n",
        "    dimension = Xtrain.shape[1]\n",
        "    print('The original dimension of the data is', dimension)\n",
        "    \n",
        "    # center D to have mean 0\n",
        "    Xtrain -= np.mean(Xtrain, axis=0)\n",
        "    \n",
        "    # compute the covariance matrix\n",
        "    Sigma = (1/Xtrain.shape[0]) * Xtrain.T @ Xtrain\n",
        "\n",
        "    # compute the eigenvalues and eigenvectors of D^T D\n",
        "    (eValues, eVectors) = np.linalg.eigh(Sigma)\n",
        "\n",
        "    # compute the total variance\n",
        "    varX = np.sum(eValues)\n",
        "    \n",
        "    # initialize the variance for A to 0\n",
        "    varA = 0.0\n",
        "    \n",
        "    # reverse eValues and eVectors\n",
        "    eValues = np.flip(eValues)\n",
        "    eVectors = np.flip(eVectors, axis=1)\n",
        "\n",
        "    # find the minimum dimension consisting of fraction at least alpha of the total variance\n",
        "    for r in np.arange(0, eValues.shape[0]):\n",
        "        varA += eValues[r]\n",
        "        ratio = varA/varX\n",
        "\n",
        "        if ratio > alpha:\n",
        "            dimension = r + 1\n",
        "            print('The new dimension of the data is', dimension, 'and it explains', ratio, 'of the variance')\n",
        "            break\n",
        "            \n",
        "    # construct the new basis\n",
        "    basis = eVectors[:,:dimension]\n",
        "    \n",
        "    # create the datapoints in the new space\n",
        "    A = Xtrain @ basis\n",
        "    \n",
        "    # return points\n",
        "    return A"
      ],
      "metadata": {
        "id": "DdtkvXRyJlhl"
      },
      "execution_count": 113,
      "outputs": []
    },
    {
      "cell_type": "code",
      "source": [
        "import time\n",
        "start = time.time()\n",
        "\n",
        "# Apply PCA to the data matrices\n",
        "X = PCA(Xtrain, 0.9)\n",
        "\n",
        "end = time.time()\n",
        "\n",
        "print('PCA finished in', end - start, 'seconds')"
      ],
      "metadata": {
        "colab": {
          "base_uri": "https://localhost:8080/"
        },
        "id": "xXoG3Cqqp9dZ",
        "outputId": "b5428ef9-0fc1-47ce-cf1a-f6e2e3c423b8"
      },
      "execution_count": 114,
      "outputs": [
        {
          "output_type": "stream",
          "name": "stdout",
          "text": [
            "The original dimension of the data is 26\n",
            "The new dimension of the data is 2 and it explains 0.9081906893049387 of the variance\n",
            "PCA finished in 0.006323099136352539 seconds\n"
          ]
        }
      ]
    },
    {
      "cell_type": "code",
      "source": [
        "class DANN():\n",
        "  def fit(self, X, Y, neighbors, epsilon):\n",
        "    self.X = X\n",
        "    self.Y = Y\n",
        "    self.neighbors = neighbors\n",
        "    self.epsilon = epsilon\n",
        "\n",
        "  def predict(self, x, k):\n",
        "    uniqueY = np.unique(self.Y)\n",
        "    datapoints = self.X.shape[0]\n",
        "    features = self.X.shape[1]\n",
        "    distances = []\n",
        "    for index, row in self.X.iterrows():\n",
        "      kdist = np.linalg.norm(self.X-row)\n",
        "      distances.append(kdist)\n",
        "    indices = np.argsort(distances)[:self.neighbors]\n",
        "    nearest_neighbors = self.X.iloc[indices]\n",
        "    nmean_x = np.mean(nearest_neighbors, axis = 0)\n",
        "    neighbors_y = self.Y.iloc[indices]\n",
        "    classes = np.unique(neighbors_y)\n",
        "\n",
        "    SW = np.zeros([features, features])\n",
        "    SB = np.zeros([features, features])\n",
        "    meanVec = []\n",
        "\n",
        "    for i in classes:\n",
        "      meanVec.append(np.mean(nearest_neighbors.iloc[np.where(neighbors_y == i)[0]], axis = 0))\n",
        "    \n",
        "    meanVec = np.array(meanVec)\n",
        "\n",
        "    for i, mv in zip(classes,meanVec):\n",
        "      classScat = np.zeros([features, features])\n",
        "      for index, j in nearest_neighbors.iloc[np.where(neighbors_y == i)[0]].iterrows():\n",
        "        j, mv = j.values.reshape(features,1), mv.reshape(features,1)\n",
        "        classScat += (1/datapoints)*(j-mv).dot((j-mv).T)\n",
        "      SW += classScat\n",
        "    \n",
        "    for i, mv in enumerate(meanVec):\n",
        "      SB += (1/datapoints) * (mv-nmean_x).dot((mv-nmean_x).T)\n",
        "\n",
        "    W = np.linalg.pinv(np.nan_to_num(np.power(SW, -0.5)))\n",
        "    B = np.dot(W, SB).dot(W)\n",
        "    I = np.identity(features)\n",
        "    sigma = W.dot(B + self.epsilon * I).dot(W)\n",
        "    prediction = []\n",
        "    for index, row in self.X.iterrows():\n",
        "      distances = (self.X-row).dot(sigma).dot((self.X-row).T)\n",
        "      nearest = distances.argsort()[:k]\n",
        "      prediction.append(stats.mode(self.Y.iloc[nearest])[0][0][0])\n",
        "    return prediction\n",
        "\n",
        "start = time.time()\n",
        "model = DANN()\n",
        "model.fit(X,Y, 50, 1)\n",
        "# predict the labels of the test set\n",
        "predictedY = model.predict(X, 10)\n",
        "end = time.time()\n",
        "print('Finished in', end - start, 'seconds')\n",
        "# print quality metrics\n",
        "print('\\nClassification Report:\\n\\n', classification_report(Y,predictedY))\n",
        "print('\\nConfusion Matrix:\\n')\n",
        "sn.heatmap(confusion_matrix(Y,predictedY))\n",
        "plt.show()\n",
        "print(\"\\n\")   "
      ],
      "metadata": {
        "id": "BiiBL0DG0mCm",
        "colab": {
          "base_uri": "https://localhost:8080/",
          "height": 581
        },
        "outputId": "d7df1ead-c55f-4c99-967c-884253e2c04b"
      },
      "execution_count": 119,
      "outputs": [
        {
          "output_type": "stream",
          "name": "stdout",
          "text": [
            "Finished in 2.0442047119140625 seconds\n",
            "\n",
            "Classification Report:\n",
            "\n",
            "               precision    recall  f1-score   support\n",
            "\n",
            "           0       0.66      0.77      0.71       520\n",
            "           1       0.72      0.61      0.66       520\n",
            "\n",
            "    accuracy                           0.69      1040\n",
            "   macro avg       0.69      0.69      0.68      1040\n",
            "weighted avg       0.69      0.69      0.68      1040\n",
            "\n",
            "\n",
            "Confusion Matrix:\n",
            "\n"
          ]
        },
        {
          "output_type": "display_data",
          "data": {
            "text/plain": [
              "<Figure size 432x288 with 2 Axes>"
            ],
            "image/png": "[encoded data removed]"
          },
          "metadata": {}
        },
        {
          "output_type": "stream",
          "name": "stdout",
          "text": [
            "\n",
            "\n"
          ]
        }
      ]
    },
    {
      "cell_type": "code",
      "source": [
        "  start = time.time()\n",
        "  model = LogisticRegression(max_iter=10000)\n",
        "  model.fit(X,Y)\n",
        "  # predict the labels of the test set\n",
        "  predictedY = model.predict(X)\n",
        "  end = time.time()\n",
        "  print('Finished in', end - start, 'seconds')\n",
        "  print('\\nClassification Report:\\n\\n', classification_report(Y, predictedY))\n",
        "  print('\\nConfusion Matrix:\\n')\n",
        "  ax = sn.heatmap(confusion_matrix(Y, predictedY), annot = True) \n",
        "  plt.show()\n",
        "  print(\"\\n\")"
      ],
      "metadata": {
        "id": "Q9rZ55ibZR1_",
        "colab": {
          "base_uri": "https://localhost:8080/",
          "height": 640
        },
        "outputId": "1a274671-583f-4705-8c34-fae507385dd5"
      },
      "execution_count": 53,
      "outputs": [
        {
          "output_type": "stream",
          "name": "stdout",
          "text": [
            "Finished in 0.012037277221679688 seconds\n",
            "\n",
            "Classification Report:\n",
            "\n",
            "               precision    recall  f1-score   support\n",
            "\n",
            "           0       0.56      0.45      0.50       520\n",
            "           1       0.54      0.65      0.59       520\n",
            "\n",
            "    accuracy                           0.55      1040\n",
            "   macro avg       0.55      0.55      0.54      1040\n",
            "weighted avg       0.55      0.55      0.54      1040\n",
            "\n",
            "\n",
            "Confusion Matrix:\n",
            "\n"
          ]
        },
        {
          "output_type": "stream",
          "name": "stderr",
          "text": [
            "/usr/local/lib/python3.7/dist-packages/sklearn/utils/validation.py:993: DataConversionWarning: A column-vector y was passed when a 1d array was expected. Please change the shape of y to (n_samples, ), for example using ravel().\n",
            "  y = column_or_1d(y, warn=True)\n"
          ]
        },
        {
          "output_type": "display_data",
          "data": {
            "text/plain": [
              "<Figure size 432x288 with 2 Axes>"
            ],
            "image/png": "[encoded data removed]"
          },
          "metadata": {
            "needs_background": "light"
          }
        },
        {
          "output_type": "stream",
          "name": "stdout",
          "text": [
            "\n",
            "\n"
          ]
        }
      ]
    },
    {
      "cell_type": "markdown",
      "source": [
        "##**Problem #5**\n",
        "\n",
        "According to Lasso Regression the most important features are Maximum Pitch, Number of Periods, and Median Pitch. In the problem it asked \"How many features can be removed without reducing performance more than 10\\%?\". When seeking for the answer, if only using the two most important features that being Maximum Pitch and Number of Periods, we can achieve 99% accuracy. This means that when training the data with all the features we get lower accuracy most likely due to the discrepencies between each features that learned within the fitting process. It seems that the jitter and shimmer variables are unimportant, I hypothesize that these are unimportant variables because when dealing with inflections in the voice it is hard to classify parkinsons since humans have a high range of pitches and tones within their speech, on top of this if someone happens to speak louder or possibly makes a small adjustment to their voice this will drastically effect the results."
      ],
      "metadata": {
        "id": "s14Y3I7z9Axl"
      }
    },
    {
      "cell_type": "code",
      "source": [
        "X = dataTrain[Xhead]\n",
        "Y = dataTrain[Yhead]\n",
        "\n",
        "%matplotlib inline\n",
        "plt.style.use('seaborn-white')\n",
        "model = LogisticRegression(penalty=\"l1\", solver = 'liblinear', tol= 1e-4, max_iter = int(1e6))\n",
        "\n",
        "lamda = np.logspace(0,6,100)/10\n",
        "coefs_ = []\n",
        "Y = Ytrain.values.reshape(-1,1)\n",
        "for c in lamda:\n",
        "    model.set_params(C=1/c)\n",
        "    model.fit(Xtrain, Y.ravel())\n",
        "    coefs_.append(model.coef_.ravel().copy())\n",
        "\n",
        "coefs_ = np.array(coefs_)\n",
        "n,_ = coefs_.shape\n",
        "plt.figure(figsize = (12,8))\n",
        "for i in range(n):\n",
        "    plt.plot(lamda, coefs_)\n",
        "plt.xscale('log')\n",
        "plt.xlabel('Log($\\\\lambda$)')\n",
        "plt.ylabel('Coefficients')\n",
        "plt.title('Lasso Paths - Numpy implementation')\n",
        "\n",
        "\n",
        "zeros = []\n",
        "\n",
        "# Loops through all the paths\n",
        "for i in range(0, len(lamda)):\n",
        "\n",
        "  # Loops through the values in the path\n",
        "  for j in range(0,X.shape[1]):\n",
        "\n",
        "    # When the path equals zero and is not in the list add it to the list\n",
        "    if coefs_[i][j] == 0:\n",
        "      if not headers[j] in zeros:\n",
        "        zeros.append(headers[j])\n",
        "\n",
        "# Reverses the list to represent a hierarchy of importance in descending order\n",
        "zeros.reverse()\n",
        "print(zeros)\n"
      ],
      "metadata": {
        "colab": {
          "base_uri": "https://localhost:8080/",
          "height": 553
        },
        "id": "4aKI-Qq7VXdO",
        "outputId": "82b0a0d2-ddaf-48fc-b3c7-e853a641acb0"
      },
      "execution_count": 63,
      "outputs": [
        {
          "output_type": "stream",
          "name": "stdout",
          "text": [
            "['Maximum pitch', 'Number of periods', 'Median pitch', 'Fraction of locally unvoiced frames', 'Shimmer (apq11)', 'Degree of voice breaks', 'Jitter (ddp)', 'Minimum pitch', 'Shimmer (dda)', 'Number of pulses', 'HTN', 'Mean pitch', 'Jitter (local)', 'Number of voice breaks', 'Standard deviation', 'Shimmer (local, dB)', 'Shimmer (apq5)', 'Jitter (ppq5)', 'Shimmer (local)', 'AC', 'Standard deviation of period', 'Mean period', 'NTH', 'Shimmer (apq3)', 'Jitter (rap)', 'Jitter (local, absolute)']\n"
          ]
        },
        {
          "output_type": "display_data",
          "data": {
            "text/plain": [
              "<Figure size 864x576 with 1 Axes>"
            ],
            "image/png": "[encoded data removed]"
          },
          "metadata": {}
        }
      ]
    },
    {
      "cell_type": "code",
      "source": [
        "# fit the model to the training data\n",
        "model = LogisticRegression(penalty=\"l1\", solver = 'liblinear', tol= 1e-4, max_iter = int(1e6))\n",
        "dropping = []\n",
        "count = 0\n",
        "# adds columns in index locations greater than the top two features\n",
        "for i in zeros:\n",
        "  if count >= 2:\n",
        "    dropping.append(i)\n",
        "  count +=1\n",
        "\n",
        "X = dataTrain[Xhead]\n",
        "Xtest = dataTest[Xhead]\n",
        "# Drops the columns other than the two most important features\n",
        "X = X.drop(columns = dropping)\n",
        "Xtest = Xtest.drop(columns = dropping)\n",
        "model.fit(X,Y)\n",
        "\n",
        "# predict the labels of the test set\n",
        "predictedY = model.predict(Xtest)\n",
        "# print quality metrics\n",
        "print('\\nClassification Report:\\n\\n', classification_report(Ytest, predictedY))\n",
        "print('\\nConfusion Matrix:\\n')\n",
        "sn.heatmap(confusion_matrix(Ytest, predictedY), annot = True)"
      ],
      "metadata": {
        "colab": {
          "base_uri": "https://localhost:8080/",
          "height": 708
        },
        "id": "nsr4aIZW8Up3",
        "outputId": "3559d449-74c1-41e8-c22b-54380aa5fe07"
      },
      "execution_count": 121,
      "outputs": [
        {
          "output_type": "stream",
          "name": "stdout",
          "text": [
            "\n",
            "Classification Report:\n",
            "\n",
            "               precision    recall  f1-score   support\n",
            "\n",
            "           0       0.00      0.00      0.00         0\n",
            "           1       1.00      0.99      0.99       168\n",
            "\n",
            "    accuracy                           0.99       168\n",
            "   macro avg       0.50      0.49      0.50       168\n",
            "weighted avg       1.00      0.99      0.99       168\n",
            "\n",
            "\n",
            "Confusion Matrix:\n",
            "\n"
          ]
        },
        {
          "output_type": "stream",
          "name": "stderr",
          "text": [
            "/usr/local/lib/python3.7/dist-packages/sklearn/utils/validation.py:993: DataConversionWarning: A column-vector y was passed when a 1d array was expected. Please change the shape of y to (n_samples, ), for example using ravel().\n",
            "  y = column_or_1d(y, warn=True)\n",
            "/usr/local/lib/python3.7/dist-packages/sklearn/metrics/_classification.py:1318: UndefinedMetricWarning: Recall and F-score are ill-defined and being set to 0.0 in labels with no true samples. Use `zero_division` parameter to control this behavior.\n",
            "  _warn_prf(average, modifier, msg_start, len(result))\n",
            "/usr/local/lib/python3.7/dist-packages/sklearn/metrics/_classification.py:1318: UndefinedMetricWarning: Recall and F-score are ill-defined and being set to 0.0 in labels with no true samples. Use `zero_division` parameter to control this behavior.\n",
            "  _warn_prf(average, modifier, msg_start, len(result))\n",
            "/usr/local/lib/python3.7/dist-packages/sklearn/metrics/_classification.py:1318: UndefinedMetricWarning: Recall and F-score are ill-defined and being set to 0.0 in labels with no true samples. Use `zero_division` parameter to control this behavior.\n",
            "  _warn_prf(average, modifier, msg_start, len(result))\n"
          ]
        },
        {
          "output_type": "execute_result",
          "data": {
            "text/plain": [
              "<matplotlib.axes._subplots.AxesSubplot at 0x7fa3510c3650>"
            ]
          },
          "metadata": {},
          "execution_count": 121
        },
        {
          "output_type": "display_data",
          "data": {
            "text/plain": [
              "<Figure size 432x288 with 2 Axes>"
            ],
            "image/png": "[encoded data removed]"
          },
          "metadata": {}
        }
      ]
    }
  ]
}